{
 "cells": [
  {
   "cell_type": "markdown",
   "id": "ef8c2dfd",
   "metadata": {},
   "source": [
    "# Hackathon 1: Python, ETL and Visualisation"
   ]
  },
  {
   "cell_type": "markdown",
   "id": "c47ba3c3",
   "metadata": {},
   "source": [
    "## Objectives\n",
    "\n",
    "* To extract and isolate and relevant variables.\n",
    "* To create clear visualisations for the findings."
   ]
  },
  {
   "cell_type": "markdown",
   "id": "23814e12",
   "metadata": {},
   "source": [
    "### Import Packages"
   ]
  },
  {
   "cell_type": "code",
   "execution_count": 1,
   "id": "e4df9eb4",
   "metadata": {},
   "outputs": [],
   "source": [
    "import pandas as pd\n",
    "import numpy as np"
   ]
  },
  {
   "cell_type": "code",
   "execution_count": 2,
   "id": "eb9afebf",
   "metadata": {},
   "outputs": [],
   "source": [
    "import seaborn as sns\n",
    "import matplotlib.pyplot as plt\n",
    "import plotly.express as px"
   ]
  },
  {
   "cell_type": "markdown",
   "id": "22c96c4e",
   "metadata": {},
   "source": [
    "Updated dataset will be read and loaded to be transformed."
   ]
  },
  {
   "cell_type": "code",
   "execution_count": 7,
   "id": "6c08231e",
   "metadata": {},
   "outputs": [
    {
     "data": {
      "text/html": [
       "<div>\n",
       "<style scoped>\n",
       "    .dataframe tbody tr th:only-of-type {\n",
       "        vertical-align: middle;\n",
       "    }\n",
       "\n",
       "    .dataframe tbody tr th {\n",
       "        vertical-align: top;\n",
       "    }\n",
       "\n",
       "    .dataframe thead th {\n",
       "        text-align: right;\n",
       "    }\n",
       "</style>\n",
       "<table border=\"1\" class=\"dataframe\">\n",
       "  <thead>\n",
       "    <tr style=\"text-align: right;\">\n",
       "      <th></th>\n",
       "      <th>age</th>\n",
       "      <th>sex</th>\n",
       "      <th>bmi</th>\n",
       "      <th>children</th>\n",
       "      <th>smoker</th>\n",
       "      <th>region</th>\n",
       "      <th>charges</th>\n",
       "    </tr>\n",
       "  </thead>\n",
       "  <tbody>\n",
       "    <tr>\n",
       "      <th>1195</th>\n",
       "      <td>19</td>\n",
       "      <td>female</td>\n",
       "      <td>30.020</td>\n",
       "      <td>0</td>\n",
       "      <td>yes</td>\n",
       "      <td>northwest</td>\n",
       "      <td>33307.55080</td>\n",
       "    </tr>\n",
       "    <tr>\n",
       "      <th>91</th>\n",
       "      <td>53</td>\n",
       "      <td>female</td>\n",
       "      <td>24.795</td>\n",
       "      <td>1</td>\n",
       "      <td>no</td>\n",
       "      <td>northwest</td>\n",
       "      <td>10942.13205</td>\n",
       "    </tr>\n",
       "    <tr>\n",
       "      <th>217</th>\n",
       "      <td>27</td>\n",
       "      <td>male</td>\n",
       "      <td>23.100</td>\n",
       "      <td>0</td>\n",
       "      <td>no</td>\n",
       "      <td>southeast</td>\n",
       "      <td>2483.73600</td>\n",
       "    </tr>\n",
       "    <tr>\n",
       "      <th>470</th>\n",
       "      <td>27</td>\n",
       "      <td>male</td>\n",
       "      <td>32.670</td>\n",
       "      <td>0</td>\n",
       "      <td>no</td>\n",
       "      <td>southeast</td>\n",
       "      <td>2497.03830</td>\n",
       "    </tr>\n",
       "    <tr>\n",
       "      <th>672</th>\n",
       "      <td>41</td>\n",
       "      <td>female</td>\n",
       "      <td>31.020</td>\n",
       "      <td>0</td>\n",
       "      <td>no</td>\n",
       "      <td>southeast</td>\n",
       "      <td>6185.32080</td>\n",
       "    </tr>\n",
       "  </tbody>\n",
       "</table>\n",
       "</div>"
      ],
      "text/plain": [
       "      age     sex     bmi  children smoker     region      charges\n",
       "1195   19  female  30.020         0    yes  northwest  33307.55080\n",
       "91     53  female  24.795         1     no  northwest  10942.13205\n",
       "217    27    male  23.100         0     no  southeast   2483.73600\n",
       "470    27    male  32.670         0     no  southeast   2497.03830\n",
       "672    41  female  31.020         0     no  southeast   6185.32080"
      ]
     },
     "execution_count": 7,
     "metadata": {},
     "output_type": "execute_result"
    }
   ],
   "source": [
    "df = pd.read_csv('../data/inputs/cleaned_data.csv')\n",
    "df.sample(n=5, random_state=28)"
   ]
  },
  {
   "cell_type": "markdown",
   "id": "3bdc4d6a",
   "metadata": {},
   "source": [
    "The dataset has been feature engineered to see if the age, BMI or children variables will affect how much an individual has to be for healthcare insurance. "
   ]
  },
  {
   "cell_type": "code",
   "execution_count": 9,
   "id": "736fd510",
   "metadata": {},
   "outputs": [
    {
     "data": {
      "text/html": [
       "<div>\n",
       "<style scoped>\n",
       "    .dataframe tbody tr th:only-of-type {\n",
       "        vertical-align: middle;\n",
       "    }\n",
       "\n",
       "    .dataframe tbody tr th {\n",
       "        vertical-align: top;\n",
       "    }\n",
       "\n",
       "    .dataframe thead th {\n",
       "        text-align: right;\n",
       "    }\n",
       "</style>\n",
       "<table border=\"1\" class=\"dataframe\">\n",
       "  <thead>\n",
       "    <tr style=\"text-align: right;\">\n",
       "      <th></th>\n",
       "      <th>age</th>\n",
       "      <th>sex</th>\n",
       "      <th>bmi</th>\n",
       "      <th>children</th>\n",
       "      <th>smoker</th>\n",
       "      <th>region</th>\n",
       "      <th>charges</th>\n",
       "      <th>charges_category</th>\n",
       "    </tr>\n",
       "  </thead>\n",
       "  <tbody>\n",
       "    <tr>\n",
       "      <th>0</th>\n",
       "      <td>19</td>\n",
       "      <td>female</td>\n",
       "      <td>27.900</td>\n",
       "      <td>0</td>\n",
       "      <td>yes</td>\n",
       "      <td>southwest</td>\n",
       "      <td>16884.92400</td>\n",
       "      <td>10k-20k</td>\n",
       "    </tr>\n",
       "    <tr>\n",
       "      <th>1</th>\n",
       "      <td>18</td>\n",
       "      <td>male</td>\n",
       "      <td>33.770</td>\n",
       "      <td>1</td>\n",
       "      <td>no</td>\n",
       "      <td>southeast</td>\n",
       "      <td>1725.55230</td>\n",
       "      <td>0-10k</td>\n",
       "    </tr>\n",
       "    <tr>\n",
       "      <th>2</th>\n",
       "      <td>28</td>\n",
       "      <td>male</td>\n",
       "      <td>33.000</td>\n",
       "      <td>3</td>\n",
       "      <td>no</td>\n",
       "      <td>southeast</td>\n",
       "      <td>4449.46200</td>\n",
       "      <td>0-10k</td>\n",
       "    </tr>\n",
       "    <tr>\n",
       "      <th>3</th>\n",
       "      <td>33</td>\n",
       "      <td>male</td>\n",
       "      <td>22.705</td>\n",
       "      <td>0</td>\n",
       "      <td>no</td>\n",
       "      <td>northwest</td>\n",
       "      <td>21984.47061</td>\n",
       "      <td>20k-30k</td>\n",
       "    </tr>\n",
       "    <tr>\n",
       "      <th>4</th>\n",
       "      <td>32</td>\n",
       "      <td>male</td>\n",
       "      <td>28.880</td>\n",
       "      <td>0</td>\n",
       "      <td>no</td>\n",
       "      <td>northwest</td>\n",
       "      <td>3866.85520</td>\n",
       "      <td>0-10k</td>\n",
       "    </tr>\n",
       "    <tr>\n",
       "      <th>...</th>\n",
       "      <td>...</td>\n",
       "      <td>...</td>\n",
       "      <td>...</td>\n",
       "      <td>...</td>\n",
       "      <td>...</td>\n",
       "      <td>...</td>\n",
       "      <td>...</td>\n",
       "      <td>...</td>\n",
       "    </tr>\n",
       "    <tr>\n",
       "      <th>1332</th>\n",
       "      <td>50</td>\n",
       "      <td>male</td>\n",
       "      <td>30.970</td>\n",
       "      <td>3</td>\n",
       "      <td>no</td>\n",
       "      <td>northwest</td>\n",
       "      <td>10600.54830</td>\n",
       "      <td>10k-20k</td>\n",
       "    </tr>\n",
       "    <tr>\n",
       "      <th>1333</th>\n",
       "      <td>18</td>\n",
       "      <td>female</td>\n",
       "      <td>31.920</td>\n",
       "      <td>0</td>\n",
       "      <td>no</td>\n",
       "      <td>northeast</td>\n",
       "      <td>2205.98080</td>\n",
       "      <td>0-10k</td>\n",
       "    </tr>\n",
       "    <tr>\n",
       "      <th>1334</th>\n",
       "      <td>18</td>\n",
       "      <td>female</td>\n",
       "      <td>36.850</td>\n",
       "      <td>0</td>\n",
       "      <td>no</td>\n",
       "      <td>southeast</td>\n",
       "      <td>1629.83350</td>\n",
       "      <td>0-10k</td>\n",
       "    </tr>\n",
       "    <tr>\n",
       "      <th>1335</th>\n",
       "      <td>21</td>\n",
       "      <td>female</td>\n",
       "      <td>25.800</td>\n",
       "      <td>0</td>\n",
       "      <td>no</td>\n",
       "      <td>southwest</td>\n",
       "      <td>2007.94500</td>\n",
       "      <td>0-10k</td>\n",
       "    </tr>\n",
       "    <tr>\n",
       "      <th>1336</th>\n",
       "      <td>61</td>\n",
       "      <td>female</td>\n",
       "      <td>29.070</td>\n",
       "      <td>0</td>\n",
       "      <td>yes</td>\n",
       "      <td>northwest</td>\n",
       "      <td>29141.36030</td>\n",
       "      <td>20k-30k</td>\n",
       "    </tr>\n",
       "  </tbody>\n",
       "</table>\n",
       "<p>1337 rows × 8 columns</p>\n",
       "</div>"
      ],
      "text/plain": [
       "      age     sex     bmi  children smoker     region      charges  \\\n",
       "0      19  female  27.900         0    yes  southwest  16884.92400   \n",
       "1      18    male  33.770         1     no  southeast   1725.55230   \n",
       "2      28    male  33.000         3     no  southeast   4449.46200   \n",
       "3      33    male  22.705         0     no  northwest  21984.47061   \n",
       "4      32    male  28.880         0     no  northwest   3866.85520   \n",
       "...   ...     ...     ...       ...    ...        ...          ...   \n",
       "1332   50    male  30.970         3     no  northwest  10600.54830   \n",
       "1333   18  female  31.920         0     no  northeast   2205.98080   \n",
       "1334   18  female  36.850         0     no  southeast   1629.83350   \n",
       "1335   21  female  25.800         0     no  southwest   2007.94500   \n",
       "1336   61  female  29.070         0    yes  northwest  29141.36030   \n",
       "\n",
       "     charges_category  \n",
       "0             10k-20k  \n",
       "1               0-10k  \n",
       "2               0-10k  \n",
       "3             20k-30k  \n",
       "4               0-10k  \n",
       "...               ...  \n",
       "1332          10k-20k  \n",
       "1333            0-10k  \n",
       "1334            0-10k  \n",
       "1335            0-10k  \n",
       "1336          20k-30k  \n",
       "\n",
       "[1337 rows x 8 columns]"
      ]
     },
     "execution_count": 9,
     "metadata": {},
     "output_type": "execute_result"
    }
   ],
   "source": [
    "df['charges_category'] = pd.cut(df['charges'], bins=[0, 10000, 20000, 30000, 40000, 50000, 60000, np.inf], labels=['0-10k', '10k-20k', '20k-30k', '30k-40k', '40k-50k', '50k-60k', '60k+'])\n",
    "df"
   ]
  },
  {
   "cell_type": "code",
   "execution_count": 11,
   "id": "38e31bb1",
   "metadata": {},
   "outputs": [
    {
     "data": {
      "text/html": [
       "<div>\n",
       "<style scoped>\n",
       "    .dataframe tbody tr th:only-of-type {\n",
       "        vertical-align: middle;\n",
       "    }\n",
       "\n",
       "    .dataframe tbody tr th {\n",
       "        vertical-align: top;\n",
       "    }\n",
       "\n",
       "    .dataframe thead th {\n",
       "        text-align: right;\n",
       "    }\n",
       "</style>\n",
       "<table border=\"1\" class=\"dataframe\">\n",
       "  <thead>\n",
       "    <tr style=\"text-align: right;\">\n",
       "      <th></th>\n",
       "      <th>age</th>\n",
       "      <th>sex</th>\n",
       "      <th>bmi</th>\n",
       "      <th>children</th>\n",
       "      <th>smoker</th>\n",
       "      <th>region</th>\n",
       "      <th>charges</th>\n",
       "      <th>charges_category</th>\n",
       "      <th>charges_bmi_ratio</th>\n",
       "    </tr>\n",
       "  </thead>\n",
       "  <tbody>\n",
       "    <tr>\n",
       "      <th>0</th>\n",
       "      <td>19</td>\n",
       "      <td>female</td>\n",
       "      <td>27.900</td>\n",
       "      <td>0</td>\n",
       "      <td>yes</td>\n",
       "      <td>southwest</td>\n",
       "      <td>16884.92400</td>\n",
       "      <td>10k-20k</td>\n",
       "      <td>605.194409</td>\n",
       "    </tr>\n",
       "    <tr>\n",
       "      <th>1</th>\n",
       "      <td>18</td>\n",
       "      <td>male</td>\n",
       "      <td>33.770</td>\n",
       "      <td>1</td>\n",
       "      <td>no</td>\n",
       "      <td>southeast</td>\n",
       "      <td>1725.55230</td>\n",
       "      <td>0-10k</td>\n",
       "      <td>51.097196</td>\n",
       "    </tr>\n",
       "    <tr>\n",
       "      <th>2</th>\n",
       "      <td>28</td>\n",
       "      <td>male</td>\n",
       "      <td>33.000</td>\n",
       "      <td>3</td>\n",
       "      <td>no</td>\n",
       "      <td>southeast</td>\n",
       "      <td>4449.46200</td>\n",
       "      <td>0-10k</td>\n",
       "      <td>134.832182</td>\n",
       "    </tr>\n",
       "    <tr>\n",
       "      <th>3</th>\n",
       "      <td>33</td>\n",
       "      <td>male</td>\n",
       "      <td>22.705</td>\n",
       "      <td>0</td>\n",
       "      <td>no</td>\n",
       "      <td>northwest</td>\n",
       "      <td>21984.47061</td>\n",
       "      <td>20k-30k</td>\n",
       "      <td>968.265607</td>\n",
       "    </tr>\n",
       "    <tr>\n",
       "      <th>4</th>\n",
       "      <td>32</td>\n",
       "      <td>male</td>\n",
       "      <td>28.880</td>\n",
       "      <td>0</td>\n",
       "      <td>no</td>\n",
       "      <td>northwest</td>\n",
       "      <td>3866.85520</td>\n",
       "      <td>0-10k</td>\n",
       "      <td>133.893878</td>\n",
       "    </tr>\n",
       "    <tr>\n",
       "      <th>...</th>\n",
       "      <td>...</td>\n",
       "      <td>...</td>\n",
       "      <td>...</td>\n",
       "      <td>...</td>\n",
       "      <td>...</td>\n",
       "      <td>...</td>\n",
       "      <td>...</td>\n",
       "      <td>...</td>\n",
       "      <td>...</td>\n",
       "    </tr>\n",
       "    <tr>\n",
       "      <th>1332</th>\n",
       "      <td>50</td>\n",
       "      <td>male</td>\n",
       "      <td>30.970</td>\n",
       "      <td>3</td>\n",
       "      <td>no</td>\n",
       "      <td>northwest</td>\n",
       "      <td>10600.54830</td>\n",
       "      <td>10k-20k</td>\n",
       "      <td>342.284414</td>\n",
       "    </tr>\n",
       "    <tr>\n",
       "      <th>1333</th>\n",
       "      <td>18</td>\n",
       "      <td>female</td>\n",
       "      <td>31.920</td>\n",
       "      <td>0</td>\n",
       "      <td>no</td>\n",
       "      <td>northeast</td>\n",
       "      <td>2205.98080</td>\n",
       "      <td>0-10k</td>\n",
       "      <td>69.109674</td>\n",
       "    </tr>\n",
       "    <tr>\n",
       "      <th>1334</th>\n",
       "      <td>18</td>\n",
       "      <td>female</td>\n",
       "      <td>36.850</td>\n",
       "      <td>0</td>\n",
       "      <td>no</td>\n",
       "      <td>southeast</td>\n",
       "      <td>1629.83350</td>\n",
       "      <td>0-10k</td>\n",
       "      <td>44.228860</td>\n",
       "    </tr>\n",
       "    <tr>\n",
       "      <th>1335</th>\n",
       "      <td>21</td>\n",
       "      <td>female</td>\n",
       "      <td>25.800</td>\n",
       "      <td>0</td>\n",
       "      <td>no</td>\n",
       "      <td>southwest</td>\n",
       "      <td>2007.94500</td>\n",
       "      <td>0-10k</td>\n",
       "      <td>77.827326</td>\n",
       "    </tr>\n",
       "    <tr>\n",
       "      <th>1336</th>\n",
       "      <td>61</td>\n",
       "      <td>female</td>\n",
       "      <td>29.070</td>\n",
       "      <td>0</td>\n",
       "      <td>yes</td>\n",
       "      <td>northwest</td>\n",
       "      <td>29141.36030</td>\n",
       "      <td>20k-30k</td>\n",
       "      <td>1002.454775</td>\n",
       "    </tr>\n",
       "  </tbody>\n",
       "</table>\n",
       "<p>1337 rows × 9 columns</p>\n",
       "</div>"
      ],
      "text/plain": [
       "      age     sex     bmi  children smoker     region      charges  \\\n",
       "0      19  female  27.900         0    yes  southwest  16884.92400   \n",
       "1      18    male  33.770         1     no  southeast   1725.55230   \n",
       "2      28    male  33.000         3     no  southeast   4449.46200   \n",
       "3      33    male  22.705         0     no  northwest  21984.47061   \n",
       "4      32    male  28.880         0     no  northwest   3866.85520   \n",
       "...   ...     ...     ...       ...    ...        ...          ...   \n",
       "1332   50    male  30.970         3     no  northwest  10600.54830   \n",
       "1333   18  female  31.920         0     no  northeast   2205.98080   \n",
       "1334   18  female  36.850         0     no  southeast   1629.83350   \n",
       "1335   21  female  25.800         0     no  southwest   2007.94500   \n",
       "1336   61  female  29.070         0    yes  northwest  29141.36030   \n",
       "\n",
       "     charges_category  charges_bmi_ratio  \n",
       "0             10k-20k         605.194409  \n",
       "1               0-10k          51.097196  \n",
       "2               0-10k         134.832182  \n",
       "3             20k-30k         968.265607  \n",
       "4               0-10k         133.893878  \n",
       "...               ...                ...  \n",
       "1332          10k-20k         342.284414  \n",
       "1333            0-10k          69.109674  \n",
       "1334            0-10k          44.228860  \n",
       "1335            0-10k          77.827326  \n",
       "1336          20k-30k        1002.454775  \n",
       "\n",
       "[1337 rows x 9 columns]"
      ]
     },
     "execution_count": 11,
     "metadata": {},
     "output_type": "execute_result"
    }
   ],
   "source": [
    "df['charges_bmi_ratio'] = df['charges'] / df['bmi']\n",
    "df"
   ]
  },
  {
   "cell_type": "code",
   "execution_count": 12,
   "id": "e38274d2",
   "metadata": {},
   "outputs": [
    {
     "data": {
      "text/html": [
       "<div>\n",
       "<style scoped>\n",
       "    .dataframe tbody tr th:only-of-type {\n",
       "        vertical-align: middle;\n",
       "    }\n",
       "\n",
       "    .dataframe tbody tr th {\n",
       "        vertical-align: top;\n",
       "    }\n",
       "\n",
       "    .dataframe thead th {\n",
       "        text-align: right;\n",
       "    }\n",
       "</style>\n",
       "<table border=\"1\" class=\"dataframe\">\n",
       "  <thead>\n",
       "    <tr style=\"text-align: right;\">\n",
       "      <th></th>\n",
       "      <th>age</th>\n",
       "      <th>sex</th>\n",
       "      <th>bmi</th>\n",
       "      <th>children</th>\n",
       "      <th>smoker</th>\n",
       "      <th>region</th>\n",
       "      <th>charges</th>\n",
       "      <th>charges_category</th>\n",
       "      <th>charges_bmi_ratio</th>\n",
       "      <th>charges_per_age</th>\n",
       "    </tr>\n",
       "  </thead>\n",
       "  <tbody>\n",
       "    <tr>\n",
       "      <th>0</th>\n",
       "      <td>19</td>\n",
       "      <td>female</td>\n",
       "      <td>27.900</td>\n",
       "      <td>0</td>\n",
       "      <td>yes</td>\n",
       "      <td>southwest</td>\n",
       "      <td>16884.92400</td>\n",
       "      <td>10k-20k</td>\n",
       "      <td>605.194409</td>\n",
       "      <td>888.680211</td>\n",
       "    </tr>\n",
       "    <tr>\n",
       "      <th>1</th>\n",
       "      <td>18</td>\n",
       "      <td>male</td>\n",
       "      <td>33.770</td>\n",
       "      <td>1</td>\n",
       "      <td>no</td>\n",
       "      <td>southeast</td>\n",
       "      <td>1725.55230</td>\n",
       "      <td>0-10k</td>\n",
       "      <td>51.097196</td>\n",
       "      <td>95.864017</td>\n",
       "    </tr>\n",
       "    <tr>\n",
       "      <th>2</th>\n",
       "      <td>28</td>\n",
       "      <td>male</td>\n",
       "      <td>33.000</td>\n",
       "      <td>3</td>\n",
       "      <td>no</td>\n",
       "      <td>southeast</td>\n",
       "      <td>4449.46200</td>\n",
       "      <td>0-10k</td>\n",
       "      <td>134.832182</td>\n",
       "      <td>158.909357</td>\n",
       "    </tr>\n",
       "    <tr>\n",
       "      <th>3</th>\n",
       "      <td>33</td>\n",
       "      <td>male</td>\n",
       "      <td>22.705</td>\n",
       "      <td>0</td>\n",
       "      <td>no</td>\n",
       "      <td>northwest</td>\n",
       "      <td>21984.47061</td>\n",
       "      <td>20k-30k</td>\n",
       "      <td>968.265607</td>\n",
       "      <td>666.196079</td>\n",
       "    </tr>\n",
       "    <tr>\n",
       "      <th>4</th>\n",
       "      <td>32</td>\n",
       "      <td>male</td>\n",
       "      <td>28.880</td>\n",
       "      <td>0</td>\n",
       "      <td>no</td>\n",
       "      <td>northwest</td>\n",
       "      <td>3866.85520</td>\n",
       "      <td>0-10k</td>\n",
       "      <td>133.893878</td>\n",
       "      <td>120.839225</td>\n",
       "    </tr>\n",
       "    <tr>\n",
       "      <th>...</th>\n",
       "      <td>...</td>\n",
       "      <td>...</td>\n",
       "      <td>...</td>\n",
       "      <td>...</td>\n",
       "      <td>...</td>\n",
       "      <td>...</td>\n",
       "      <td>...</td>\n",
       "      <td>...</td>\n",
       "      <td>...</td>\n",
       "      <td>...</td>\n",
       "    </tr>\n",
       "    <tr>\n",
       "      <th>1332</th>\n",
       "      <td>50</td>\n",
       "      <td>male</td>\n",
       "      <td>30.970</td>\n",
       "      <td>3</td>\n",
       "      <td>no</td>\n",
       "      <td>northwest</td>\n",
       "      <td>10600.54830</td>\n",
       "      <td>10k-20k</td>\n",
       "      <td>342.284414</td>\n",
       "      <td>212.010966</td>\n",
       "    </tr>\n",
       "    <tr>\n",
       "      <th>1333</th>\n",
       "      <td>18</td>\n",
       "      <td>female</td>\n",
       "      <td>31.920</td>\n",
       "      <td>0</td>\n",
       "      <td>no</td>\n",
       "      <td>northeast</td>\n",
       "      <td>2205.98080</td>\n",
       "      <td>0-10k</td>\n",
       "      <td>69.109674</td>\n",
       "      <td>122.554489</td>\n",
       "    </tr>\n",
       "    <tr>\n",
       "      <th>1334</th>\n",
       "      <td>18</td>\n",
       "      <td>female</td>\n",
       "      <td>36.850</td>\n",
       "      <td>0</td>\n",
       "      <td>no</td>\n",
       "      <td>southeast</td>\n",
       "      <td>1629.83350</td>\n",
       "      <td>0-10k</td>\n",
       "      <td>44.228860</td>\n",
       "      <td>90.546306</td>\n",
       "    </tr>\n",
       "    <tr>\n",
       "      <th>1335</th>\n",
       "      <td>21</td>\n",
       "      <td>female</td>\n",
       "      <td>25.800</td>\n",
       "      <td>0</td>\n",
       "      <td>no</td>\n",
       "      <td>southwest</td>\n",
       "      <td>2007.94500</td>\n",
       "      <td>0-10k</td>\n",
       "      <td>77.827326</td>\n",
       "      <td>95.616429</td>\n",
       "    </tr>\n",
       "    <tr>\n",
       "      <th>1336</th>\n",
       "      <td>61</td>\n",
       "      <td>female</td>\n",
       "      <td>29.070</td>\n",
       "      <td>0</td>\n",
       "      <td>yes</td>\n",
       "      <td>northwest</td>\n",
       "      <td>29141.36030</td>\n",
       "      <td>20k-30k</td>\n",
       "      <td>1002.454775</td>\n",
       "      <td>477.727218</td>\n",
       "    </tr>\n",
       "  </tbody>\n",
       "</table>\n",
       "<p>1337 rows × 10 columns</p>\n",
       "</div>"
      ],
      "text/plain": [
       "      age     sex     bmi  children smoker     region      charges  \\\n",
       "0      19  female  27.900         0    yes  southwest  16884.92400   \n",
       "1      18    male  33.770         1     no  southeast   1725.55230   \n",
       "2      28    male  33.000         3     no  southeast   4449.46200   \n",
       "3      33    male  22.705         0     no  northwest  21984.47061   \n",
       "4      32    male  28.880         0     no  northwest   3866.85520   \n",
       "...   ...     ...     ...       ...    ...        ...          ...   \n",
       "1332   50    male  30.970         3     no  northwest  10600.54830   \n",
       "1333   18  female  31.920         0     no  northeast   2205.98080   \n",
       "1334   18  female  36.850         0     no  southeast   1629.83350   \n",
       "1335   21  female  25.800         0     no  southwest   2007.94500   \n",
       "1336   61  female  29.070         0    yes  northwest  29141.36030   \n",
       "\n",
       "     charges_category  charges_bmi_ratio  charges_per_age  \n",
       "0             10k-20k         605.194409       888.680211  \n",
       "1               0-10k          51.097196        95.864017  \n",
       "2               0-10k         134.832182       158.909357  \n",
       "3             20k-30k         968.265607       666.196079  \n",
       "4               0-10k         133.893878       120.839225  \n",
       "...               ...                ...              ...  \n",
       "1332          10k-20k         342.284414       212.010966  \n",
       "1333            0-10k          69.109674       122.554489  \n",
       "1334            0-10k          44.228860        90.546306  \n",
       "1335            0-10k          77.827326        95.616429  \n",
       "1336          20k-30k        1002.454775       477.727218  \n",
       "\n",
       "[1337 rows x 10 columns]"
      ]
     },
     "execution_count": 12,
     "metadata": {},
     "output_type": "execute_result"
    }
   ],
   "source": [
    "df['charges_per_age'] = df['charges'] / df['age']\n",
    "df"
   ]
  },
  {
   "cell_type": "code",
   "execution_count": 13,
   "id": "a180d3a2",
   "metadata": {},
   "outputs": [
    {
     "data": {
      "text/html": [
       "<div>\n",
       "<style scoped>\n",
       "    .dataframe tbody tr th:only-of-type {\n",
       "        vertical-align: middle;\n",
       "    }\n",
       "\n",
       "    .dataframe tbody tr th {\n",
       "        vertical-align: top;\n",
       "    }\n",
       "\n",
       "    .dataframe thead th {\n",
       "        text-align: right;\n",
       "    }\n",
       "</style>\n",
       "<table border=\"1\" class=\"dataframe\">\n",
       "  <thead>\n",
       "    <tr style=\"text-align: right;\">\n",
       "      <th></th>\n",
       "      <th>age</th>\n",
       "      <th>sex</th>\n",
       "      <th>bmi</th>\n",
       "      <th>children</th>\n",
       "      <th>smoker</th>\n",
       "      <th>region</th>\n",
       "      <th>charges</th>\n",
       "      <th>charges_category</th>\n",
       "      <th>charges_bmi_ratio</th>\n",
       "      <th>charges_per_age</th>\n",
       "      <th>charges_per_child</th>\n",
       "    </tr>\n",
       "  </thead>\n",
       "  <tbody>\n",
       "    <tr>\n",
       "      <th>0</th>\n",
       "      <td>19</td>\n",
       "      <td>female</td>\n",
       "      <td>27.900</td>\n",
       "      <td>0</td>\n",
       "      <td>yes</td>\n",
       "      <td>southwest</td>\n",
       "      <td>16884.92400</td>\n",
       "      <td>10k-20k</td>\n",
       "      <td>605.194409</td>\n",
       "      <td>888.680211</td>\n",
       "      <td>16884.924000</td>\n",
       "    </tr>\n",
       "    <tr>\n",
       "      <th>1</th>\n",
       "      <td>18</td>\n",
       "      <td>male</td>\n",
       "      <td>33.770</td>\n",
       "      <td>1</td>\n",
       "      <td>no</td>\n",
       "      <td>southeast</td>\n",
       "      <td>1725.55230</td>\n",
       "      <td>0-10k</td>\n",
       "      <td>51.097196</td>\n",
       "      <td>95.864017</td>\n",
       "      <td>862.776150</td>\n",
       "    </tr>\n",
       "    <tr>\n",
       "      <th>2</th>\n",
       "      <td>28</td>\n",
       "      <td>male</td>\n",
       "      <td>33.000</td>\n",
       "      <td>3</td>\n",
       "      <td>no</td>\n",
       "      <td>southeast</td>\n",
       "      <td>4449.46200</td>\n",
       "      <td>0-10k</td>\n",
       "      <td>134.832182</td>\n",
       "      <td>158.909357</td>\n",
       "      <td>1112.365500</td>\n",
       "    </tr>\n",
       "    <tr>\n",
       "      <th>3</th>\n",
       "      <td>33</td>\n",
       "      <td>male</td>\n",
       "      <td>22.705</td>\n",
       "      <td>0</td>\n",
       "      <td>no</td>\n",
       "      <td>northwest</td>\n",
       "      <td>21984.47061</td>\n",
       "      <td>20k-30k</td>\n",
       "      <td>968.265607</td>\n",
       "      <td>666.196079</td>\n",
       "      <td>21984.470610</td>\n",
       "    </tr>\n",
       "    <tr>\n",
       "      <th>4</th>\n",
       "      <td>32</td>\n",
       "      <td>male</td>\n",
       "      <td>28.880</td>\n",
       "      <td>0</td>\n",
       "      <td>no</td>\n",
       "      <td>northwest</td>\n",
       "      <td>3866.85520</td>\n",
       "      <td>0-10k</td>\n",
       "      <td>133.893878</td>\n",
       "      <td>120.839225</td>\n",
       "      <td>3866.855200</td>\n",
       "    </tr>\n",
       "    <tr>\n",
       "      <th>...</th>\n",
       "      <td>...</td>\n",
       "      <td>...</td>\n",
       "      <td>...</td>\n",
       "      <td>...</td>\n",
       "      <td>...</td>\n",
       "      <td>...</td>\n",
       "      <td>...</td>\n",
       "      <td>...</td>\n",
       "      <td>...</td>\n",
       "      <td>...</td>\n",
       "      <td>...</td>\n",
       "    </tr>\n",
       "    <tr>\n",
       "      <th>1332</th>\n",
       "      <td>50</td>\n",
       "      <td>male</td>\n",
       "      <td>30.970</td>\n",
       "      <td>3</td>\n",
       "      <td>no</td>\n",
       "      <td>northwest</td>\n",
       "      <td>10600.54830</td>\n",
       "      <td>10k-20k</td>\n",
       "      <td>342.284414</td>\n",
       "      <td>212.010966</td>\n",
       "      <td>2650.137075</td>\n",
       "    </tr>\n",
       "    <tr>\n",
       "      <th>1333</th>\n",
       "      <td>18</td>\n",
       "      <td>female</td>\n",
       "      <td>31.920</td>\n",
       "      <td>0</td>\n",
       "      <td>no</td>\n",
       "      <td>northeast</td>\n",
       "      <td>2205.98080</td>\n",
       "      <td>0-10k</td>\n",
       "      <td>69.109674</td>\n",
       "      <td>122.554489</td>\n",
       "      <td>2205.980800</td>\n",
       "    </tr>\n",
       "    <tr>\n",
       "      <th>1334</th>\n",
       "      <td>18</td>\n",
       "      <td>female</td>\n",
       "      <td>36.850</td>\n",
       "      <td>0</td>\n",
       "      <td>no</td>\n",
       "      <td>southeast</td>\n",
       "      <td>1629.83350</td>\n",
       "      <td>0-10k</td>\n",
       "      <td>44.228860</td>\n",
       "      <td>90.546306</td>\n",
       "      <td>1629.833500</td>\n",
       "    </tr>\n",
       "    <tr>\n",
       "      <th>1335</th>\n",
       "      <td>21</td>\n",
       "      <td>female</td>\n",
       "      <td>25.800</td>\n",
       "      <td>0</td>\n",
       "      <td>no</td>\n",
       "      <td>southwest</td>\n",
       "      <td>2007.94500</td>\n",
       "      <td>0-10k</td>\n",
       "      <td>77.827326</td>\n",
       "      <td>95.616429</td>\n",
       "      <td>2007.945000</td>\n",
       "    </tr>\n",
       "    <tr>\n",
       "      <th>1336</th>\n",
       "      <td>61</td>\n",
       "      <td>female</td>\n",
       "      <td>29.070</td>\n",
       "      <td>0</td>\n",
       "      <td>yes</td>\n",
       "      <td>northwest</td>\n",
       "      <td>29141.36030</td>\n",
       "      <td>20k-30k</td>\n",
       "      <td>1002.454775</td>\n",
       "      <td>477.727218</td>\n",
       "      <td>29141.360300</td>\n",
       "    </tr>\n",
       "  </tbody>\n",
       "</table>\n",
       "<p>1337 rows × 11 columns</p>\n",
       "</div>"
      ],
      "text/plain": [
       "      age     sex     bmi  children smoker     region      charges  \\\n",
       "0      19  female  27.900         0    yes  southwest  16884.92400   \n",
       "1      18    male  33.770         1     no  southeast   1725.55230   \n",
       "2      28    male  33.000         3     no  southeast   4449.46200   \n",
       "3      33    male  22.705         0     no  northwest  21984.47061   \n",
       "4      32    male  28.880         0     no  northwest   3866.85520   \n",
       "...   ...     ...     ...       ...    ...        ...          ...   \n",
       "1332   50    male  30.970         3     no  northwest  10600.54830   \n",
       "1333   18  female  31.920         0     no  northeast   2205.98080   \n",
       "1334   18  female  36.850         0     no  southeast   1629.83350   \n",
       "1335   21  female  25.800         0     no  southwest   2007.94500   \n",
       "1336   61  female  29.070         0    yes  northwest  29141.36030   \n",
       "\n",
       "     charges_category  charges_bmi_ratio  charges_per_age  charges_per_child  \n",
       "0             10k-20k         605.194409       888.680211       16884.924000  \n",
       "1               0-10k          51.097196        95.864017         862.776150  \n",
       "2               0-10k         134.832182       158.909357        1112.365500  \n",
       "3             20k-30k         968.265607       666.196079       21984.470610  \n",
       "4               0-10k         133.893878       120.839225        3866.855200  \n",
       "...               ...                ...              ...                ...  \n",
       "1332          10k-20k         342.284414       212.010966        2650.137075  \n",
       "1333            0-10k          69.109674       122.554489        2205.980800  \n",
       "1334            0-10k          44.228860        90.546306        1629.833500  \n",
       "1335            0-10k          77.827326        95.616429        2007.945000  \n",
       "1336          20k-30k        1002.454775       477.727218       29141.360300  \n",
       "\n",
       "[1337 rows x 11 columns]"
      ]
     },
     "execution_count": 13,
     "metadata": {},
     "output_type": "execute_result"
    }
   ],
   "source": [
    "df['charges_per_child'] = df['charges'] / (df['children'] + 1)\n",
    "df"
   ]
  },
  {
   "cell_type": "code",
   "execution_count": 18,
   "id": "30676c68",
   "metadata": {},
   "outputs": [
    {
     "data": {
      "image/png": "[encoded data removed]",
      "text/plain": [
       "<Figure size 640x480 with 1 Axes>"
      ]
     },
     "metadata": {},
     "output_type": "display_data"
    }
   ],
   "source": [
    "plt.hist(df['charges'], bins=30, color='purple', alpha=0.7)\n",
    "plt.xlabel('Charges')\n",
    "plt.ylabel('Frequency')\n",
    "plt.title('Distribution of Charges')\n",
    "plt.show()"
   ]
  },
  {
   "cell_type": "markdown",
   "id": "7848d606",
   "metadata": {},
   "source": [
    "This histogram shows that the distribution of healthcare charges is heavily weighted towards a lower cost for most individuals in the dataset. Which indicates that its likley for specific variables to be causing the higher charges incurred by some."
   ]
  },
  {
   "cell_type": "code",
   "execution_count": 22,
   "id": "457e72b3",
   "metadata": {},
   "outputs": [
    {
     "data": {
      "application/vnd.plotly.v1+json": {
       "config": {
        "plotlyServerURL": "https://plot.ly"
       },
       "data": [
        {
         "hovertemplate": "Age=%{x}<br>Charges=%{y}<br>charges_bmi_ratio=%{marker.color}<extra></extra>",
         "legendgroup": "",
         "marker": {
          "color": {
           "bdata": "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",
           "dtype": "f8"
          },
          "coloraxis": "coloraxis",
          "symbol": "circle"
         },
         "mode": "markers",
         "name": "",
         "showlegend": false,
         "type": "scattergl",
         "x": {
          "bdata": "ExIcISAfLiUlPBk+FzgbEzQXOB48HhIiJTs/NxcfFhITPxwTPhojPBgfKSUmNxIcPCQSFTAkKDo6EjUiKxlAHBQTPSgoHBsfNTosOR0VFikfLRYwJS05OC43FTU7I0AcNjc4JikeEj0iFBMaHT82NyUVNDw6HTElLBIULC8aEzQgJjs9NRMUFhMWNhYiGiIdHh0uMzUTIzAgKigsMBIeMioSNiAlLxQgExs/MRIjGD8mNi4pOhIWLCwkGh4pHT0kGTgSEyctM0ATMDwbLhw7Iz8oFCgYIi0pNRsaGCI1IBMqNxw6KS8qOxM7JygSHxMsFyE3KD82PBgTHRI/NhsyNzgmMxM6FDQTNS4oOy0xEjIpMhkvExY7Myg2Hjc0Li4/OzQcHRkWGRITLx8wJDU4HDkdHB46KTITKzEbNDI2LCAiGiI5HSgbLUA0PTQ9OCtAPD4yLhg+PD8xIiEuJBM5Mh4hEi4uLxcSMCMTFRUxOCosEj05KhoUFycYQD4bNzcjLBM6MhoYMBMwMS4uKxVAEjMvQDEfNCEvJiATLBoZEys0JEA/QD0oGTAtJhIVGxMdKjwfPBYjNBofIRI7OC08OCgjJx4YFCA7Nzk4KDEqPjgTHjw4HBIbEhMvNj0YGRUXPzESMzAfNhMsNRM9Ej0VFB8tLD4dKzMTJiUWFRg5OBszEyc6FC0jHzIgMyYqEhMzLhI5PjslQCYhLi41IhQ/NjYxHDYZKz8gPjQZHC4iIxMuNhsyEhMmKTEwHxIePjk6Fh80GTsnIBMhFSI9JjovFBUpLioiKzQSMzhAEzMbOxweLyYSIhQvODETNx4lMRI7HSQhOiw1GB0oM0ATIyc4ISo9FyswJygSOjE1MC07NBobMDklOSASQCsxKD4oHh0kKSwtNzw4MRUTJzUhNSooLxsVLxQYGxo1KTgXFTI1Ii8hMzEfJBIyKxQYPDE8MzozNT4TMh4pHRIpIzUYMDsxJRoXHS0bNR8yMiITLxwlFUA6GB8nLx4SFhchGy05LypAJj01LBMpMygtIzUeEjMyHyM8FR0+JxMWNScbHh46ISpAFRIXLSgTEhkuITYcJBQYFy8hLRoSLDxAOCQpJz8kHDokKiQ4IzsVOxc5NTwzFxs3JT0uNTEUMBkZOSUmNyQzKBI5PRkyGiorLBcxISklFhcVMxkgOSQWOUAkNi8+PSsTEhMxPBoxPBobLD8gFhI7LCEYKy09Iz4+JiIrMhM5PikaJy4tIDssJxI1EjISEz44KiUqGTkzHiwiHzYYKzATHT8uNCMzLBUnMiIWExodMBotJDYiHxsULCstIhgaJjImGycnPyEkHhgYMC8dHC8ZMzArPTAmOxMaNhUzFi8SLxUTFzYlLjceEj02Fi0WEyMSFBw3KysWGTEsQDEvGzcwLRggGDk7JB0qMCc/NiU/FTY8IC8VHD8SICYgPic3OTQ4LzcXFjISMxY0GSE1HTolNjEyGi02JjAcFzcpGSEeFy41Gxc/NyMiEycbOTQcMiwaIRMyKTQnMjQ8FDcqEjorIzAkExcUICsiHhIpIzkdICUSKzgmHRY0KBcfKhgZMBctFD4rFx8pOjAfExMpKB8lLhYzEiM7JCU7JCcSNBsSKB0uJh4oMhQpISYqODo0FDY6LRo/OiUZNEAWHBIcLSESIBgTFCgiKjM2NzQgHCkrMUA3GBQtGhkrIxo5FiAnGTAvEhI9LxwkFCwmExUuOhQSHCETLT4ZKyoYHSAZKSohIhMeEhMSIycfPj4qHz0qMxc0ORc0MhISFT0=",
          "dtype": "i1"
         },
         "xaxis": "x",
         "y": {
          "bdata": "YOXQIjt90EBTliGONfaaQMHKoUV2YbFAy2d5Hh541UAUP8bctTWuQGPuWkI+Wa1A3EYDeEsYwEDcaABvgXG8QHicoiNpBrlAixpMw8g+3EAdyeU/pEKlQJXUCWguKNtAHVpkO1+LnECJ0t7gW6nFQAYSFD94V+NAnMQgsPK0nEB1ApoIqxbFQELPZtVXtqJAexSuRzG1xEDn+6nxrvzhQKyL22hs1slA2/l+arw1sEAGgZVDC8SRQKTfvg68aOJAK4cW2eY7uEAawFsgkVjLQKH4MebqOcxAc2iR7VD2x0DaG3xhYq6lQAAAAADg5uJAUI2XbjJg4UBL6gQ0YSyhQOkmMQjMT7JAJLn8hwzlykC8kXnkUf/oQI/C9Si8ZZlAV1uxvxh+zkCamZmZmfyhQPwYc9fIa+NAO99PjauF50C0yHa+H8ynQHrHKTrCVbNAp3nHKXqAuECq8dJNwqm4QESLbOerv7dAhiAHJZIl1EDc14FztoKqQDSitDfYyatAKcsQx/KqyECDwMqhpebiQOf7qfFCRqFAZMxdS6j3q0AhsHJoEQTXQApoImzSbeJAt2J/2a17v0BwzojSDzHnQDMzMzOvk8pAfdCzWeW/4EBTBaOSMrPWQI0o7Q2GZbdAE2HD0xvPwEDf4AuTqZixQFjnGJCndd1AeqUsQ6QlsEBiodY037vMQGDl0CLbPJtAqMZLN4nNy0DLEMe6YPW4QIMvTKYaILdABaOSOsk/0UDP91PjcTDQQJHtfD91j7pAc2iR7dzuxkBIv30dUFXHQMl2vp/aLr5A9wZfmFQuxkD129eB09auQLprCfng8ZdAtFn1uQqGpUCoNc07Bqu5QCSX/5A2WbFAO3DOiEr/vkBjf9k9pSXiQOLplbLUjMVAVOOlm5Bz40CWIY51o5rUQLyWkA9eR+VADAIrh5agxUCDL0ymqlq/QKCJsOFJpcVAImx4euWrn0C4rwPnEF/FQIqO5PI7et1Aqz5XWwFhtkApXI/CYRfnQGkAb4HEba1AXI/C9aikx0DDZKpgJPnDQN0kBoEp49VA9P3UeFnmzkCYbhKDICq4QIY41sUteqxAYTJVMDbY1EDYgXNGjDfeQH0/NV7ai7NAqvHSTRgm0UA/NV66CTeiQJ7vp8abSq5ANBE2PD1mpkBGlPYG8fnmQH/ZPXmgJMVA/Knx0q00x0Cq8dJNwiayQJwzorR3yaJAPE7RkShwxkBNSkG3/4zdQA8LtaapOsZA/mX35PGo0kBJnYAmqszAQMRCrWluHrpAwcqhRVY8vkBoke18f6aaQNnO91PzoqFA/Knx0o9Q40BJLv8hgcHDQGaIY13McqpA7FG4HkWu0ECgGi/dRNHCQNDVVuyL999A4XoUrmfCt0AtIR/0uAfJQCzUmuYtmMpAEFg5tMjNxUDpSC7/QYKZQBpR2htsMqNAc2iR7VzXoEBU46WbxLWTQFYOLbK99p9A9u6P966u2kBYObTIdu2gQIVf6uf5u9pAeJyiIxlFq0DhehSuH4fSQNNNYhB4u9FAHhZqTX9C1EDiWBe3QRK0QA+cM6IR4uNA5BQdyc1Kw0BE+u3r2GfFQH9qvHQTypxAv30dODcFtED2KFyPom2+QIqO5PJXvrhAQBNhwy9/00DdtYR8MKW7QAn5oGezJLtAqaROQOu51ECNl24SF0/OQBzr4jbICuJAfERMiVhJ00C+nxovLdnUQPT91HivpuFAsp3vp0ZpxECq8dJNIiC0QJjdk4clpLNALv8h/YpTxEB7FK5Hod6yQDLmriXM8LdAHVpkO48+pUCEns2q59uyQNCzWfWxLspASOF6FK60v0AjSnuDL3uaQOkmMQgMfrRAu7iNBuBOpkBmZmZmDtfnQOVhodbcN7lANV66SQxixEDLoUW2ozvBQET67eskrcBAxty1hPDrxkDnHafoSH+ZQB+F61HYSq9AwoanV3r7vEAf9GxWbTO+QOQUHckqXeVAdy0hH/Qbr0Cyne+nps20QHWTGAT2d7pAaCJseOo6s0AibHh6zYbIQFYOLbLdE7NAVcGopE6zoECe76fGK4bHQLprCfngxZFAg1FJnUCemUCkcD0KtxG2QDEIrBxqosBAH4XrUSDWwkDswDkjwhrNQLyWkA9apaBAZ9XnapNTwUAoDwu1GmrJQCntDb68IeJAFK5H4Rrru0AFNBE2vPGwQMHKoUWm78ZAutqK/QV+1ED0/dR4eRzLQF+YTBUc0rlA4XoUrkfwnkDD9Shct+K/QC2yne9no6tAlPYGX8iKs0DZzvdTA6TAQIPAyqHFy7xAXrpJDNI5xEC28/3UeGejQHctIR/0gapAJGJKJHF+2EBqvHSTeJSzQKjGSzdxosRAGy/dJIaFtEDhehSuc/vgQOELk6niDtNAmN2Th5Vpx0DgnBGl/QKlQLoUV5XVqNdAi/1l9yy+vEBZF7fRoATCQLG/7J6kE71A4umVsqRYy0BxPQrXI/+aQIts5/vpFshAGsBbIDE2ukDSAN4CEf3SQF8HzhkRP5lAaQBvgTRvsUDeAgmKK/LQQInS3uCr8LtAApoIG/TN4kClLEMcE+q0QKG+ZU4EK+FAokW2890cvEAOvjCZytTcQDRo6J8e59dAAd4CCVq0yEBYqDXNuwufQEw3iUFgoJxA/Knx0h2Rr0A0gLdAug7JQClcj8IpGedA6Ugu/5ec5UA5tMh2vqSwQARWDi0lEeRAat5xiqp7yUCJ0t7gJXLlQLpJDAL7GLVAQYLixwyAxkAf9GxWyXrgQK5H4XqUHsdAGsBbIFGv0EBTliGOdUnYQEVHcvlsr+FAIlSp2b/700CLbOf744jmQCGwcmjhxtBAuK8D51B/zECwcmiRDRG9QDsBTYQ9IcJA+1xtxb7dmkBCYOXQGu3kQHE9CtezYbxAnl4py9TIwkBYObTIVrajQPhT46Xr+cJAB1+YTGXnpUCmm8Qg8MygQO/Jw0JlQMlAWRe30ZA/w0DYgXNG5M7VQCgPC7WltOdAT6+UZSCNsECTqYJRjTPHQClcj8L1zMJAGlHaGxw+vkB/+zpwdmzCQFafq60Y2MtANjy9Uhlj50AtW+uLNGLZQKjGSzcJyKhATGw+rnPN00DeAgmKB5DkQET67euA2aBAL90kBkGErkBuowG8RaKaQDVeukns1M9AqmBUUqt21UDarPpcS+viQH2utmK/EMJASOF6FL5aukAPnDOiWErYQCxlGeLA9MdAwcqhRXb9sEAj2/l+GrPIQMl2vp+W/NJAVz7L82q000BlGeJYBzewQDAqqRNMVMdAGJXUCShFvkAnMQisPH7AQC/dJAaBJZtA9GxWfZCR5ECwA+eMaLy/QC2yne/bAuFAI9v5fmL9wkCKsOHpoUHBQAisHFqIYcRAcF8HzjH9vEBqTfOOmzuyQBTQRNjAHrNAiJ0pdOoX2ECuR+F6dFThQGgibHgml8ZA30+Nly5kpkCcoiO5NMi5QNSa5h3H06tAArwFEhDh5EBcj8L1AGfnQB+F61FI3MFAGCZTBbKw50BCz2bVZ9LXQCS5/IeEOspAJLn8hzDFxkBfJLTlJLLSQFg5tMhm/8pAvJaQD0q3x0BkO99P1TjLQHe+nxrjd+RAWMoyxFEUwEBk6UMXzoLSQBIUP8YMFMpAvHSTGIzQyUAU0ETY7E7LQJXUCWiacMVAbHh6pUwouEBaZDvf/xmzQCSX/5A6R8BAfoy5awlmtUDXEvJB746ZQBHHurhNG8dAbxKDwApywUAtsp3vZ8SrQPVKWYZwOshAtvP91ISay0AHfH4YwwbYQOPHmLsOeMFAZapgVCrKwkD4wmSqILWcQMKGp1cKHplAWmQ735+dw0C4HoXrEY+yQOOlm8RACstAK4cW2Y5LpEBhw9MrBdmoQJayDHEsGcNAuB6F6yE7ykAnwoanD1G/QIiFWtNEtL9A2/l+arwzq0D99nXghDPKQOLplbKkfsdAt9EA3mrXvUC6SQwCp57hQJVliGMdvpVAc9cS8n2c0UCBJsKG+ybVQM/3U+PHneJAHhZqTe0R0EBZ+tAFP17aQNXnaitKT81AvsEXJvan5ECXHHdKX0vUQM9m1efq1rZADeAtkEQ3wEAOLbKdb7eTQCcxCKw0KMdAU9DtJSmT3UCdEaW9odGoQPOOU3QUCrJAf2q8dG/4xECoV8oyJLSgQOM2GsAHgsFA5dAi2xElwkA9CtejgGHCQEI+6Nm0Zr1A8tJNYgClwEA5C3vanzLQQPCnxks3Rs1Aq8/VVqx+mUB1kxgEZhjCQNxGA3jrk79AysNCrVWyzEAUrkfhug7EQM/3U+NleKlA7uvAOXNCxkBHcvkPGVmwQM/3U+PVrcBAINJvX4f8uUBkzF1L6NSvQGaIY11cVZlAzTtO0bMi00B/+zpw0jvMQGq8dJMY2LNAsHJokc2toEBGJXUCurG8QD81Xrp52sFA46WbxBAs0kDmriXkIynMQNJvXweeRdxANxrAWyjl5kDcRgN448DmQIPAyqGqGuNATRWMSspOpUDXo3A9KoTBQM6qz9VuHsNARiV1AhKbuUB7FRkdvJu8QMPTK2XpvqhAYVRSJzBd0kC5cCAkvYrWQM6I0t5oKrNAAiuHFrlRt0Bcj8L1GK/IQAFNhA2Xk7BA8IXJVOkvy0By+Q/pl52hQGq8dJPYJrdA2/l+akSYyECDwMqhpaKmQMpUwahEgrJARIts5+sa4kDyQc9mlfWRQLvtQnP5n9tAMLsnD1V/2UDdJAaBFbG8QIqO5PJ/3chAbxKDwAJfxkBt5/up8Ra3QGIQWDlUmrJACKwcWkRYvUBLyAc9e4CvQPp+arx0xp5ArIvbaCCmm0D129eBY06yQLu4jQZASdVAGlHaG/w0x0BiodY0YyDHQPp+ary0tMRAUrgehasCvkBMpgpGvUbEQF66SQwCoNVAImx4eim/zUCWIY51tc7FQOxRuB4lgJlA/yH99n0Q00AQWDm0WNTJQDcawFuwschAZ9Xnaju+1kDiWBe3MTKhQOC+DpwTgqNAPL1SlvE2oUCPwvUo3EGbQADjGTSyY9RAukkMApPJ2ED0bFZ9KjHcQJPjTulwKeFAmpmZmcnMo0CHFtnON/mXQB3J5T8kgZxAj8L1KJhhzkCI9NvXWSzCQC/dJAbBWJlAEFg5tAhMw0DLoUW2g63CQF3+Q/oF+7BAi/1l96xdyEA5tMh2vpeTQGDI6lak3udA2qz6XP1uxEBqvHSTGFObQNwuNNdF8NdA7zhFR/IooUDByqFFBo/IQFg5tMiGhdFAejarPhe8nkCDwMqhpUOzQIcW2c73W79AiIVa04wJwEBI4XoUbk/KQH0/NV62rOFACYofY161ukCUh4Vah7LVQBKDwMoVyd9Axf6ye2JWt0BGtvP93Iy6QPT91HiJpqRAiUFg5TAKqEB5WKg1bcinQHE9CtejX8ZASL99HYD5xkDtnjws1ISjQCsYldSpSMJABFYOLTKhk0DXo3A9ipbUQD0K16NgMcZArkfhehIT20A17zhFu27AQHE9CtfDeLRA+n5qvIQjrkCtUQ/RJA7ZQHUCmghbNK9AGCZTBSdFw0BxGw3gnRW1QPZdEfyyrOJA78nDQlFtxkBEozuI637XQDMzMzODQsNAH4XrUXRLwEDcaABvAbCaQCSX/5BwxOdAAG+BBL1ty0AhsHJo8T7JQBZNZyetw9JAQKTfvo4Dy0DFILByILO3QOOlm8RgVLdAukkMAos8wUCuR+F6jBTAQIleRrGCtNpAnMQgsHI0uEAoDwu1xuCnQDEIrByaH8tADAdCsk0j70CjI7n8v/vDQNuK/WXPP9dAUdobfLGJqUDP91PjNYnGQPRsVn0+G6lA9ihcj+Zk5kA730+NRyfKQDlFR3LZCa9Ad76fGo9OyUCk374O1NnFQAq6vaS5ddFAAiuHFlkPrkDcRgN4S0fAQBpR2htcvq5A9+Rhoe2F40Bd3EYDuLmZQNnO91Pr9MFAUPwYc/dVxUAGgZVDC3yjQCJseHpdscFAaQBvgYTipUDi6ZWy3KCgQG1Wfa6O5bhAveMUHblYvEDLoUW2c5DGQOJYF7fAUOZA3SQGgZVirUDmriXk41ahQBgmUwWjkbJAVfZdEQDh3kAeFmpNB9TJQACRfvty38dAVHQkl/8DmkCH4SNiYpnsQHE9CtdD/sJAxyk6kvsMqUBGlPYG/zjJQAdfmExF1LhARMAhVI820UAlBoGVQ2uTQGEyVTCaq7JANqs+V2sqrkAB3gIJ/HTlQA8LtabRocpAtTf4wtRYt0BqvHSTOCHHQM6I0t4IdsBAdCSX//AMpEA3iUFgjf/NQHZPHhYqTbZABFYOLf47wUDsL7snT9i9QMUgsHLY2rVATDeJQYARvUCqDrkZ/1fgQMWPMXcthJlA2qz6XBHrwUCuR+F6RJ/FQB+F61GQas9AorQ3+D4P0UAtsp3vxyHCQLByaJE9zatA5fIf0rET2UBIv30dGFOxQBsv3SQuKeNA3bWEfNixwEAGgZVDi6u5QDGZKhhlP6FAPzVeuglhukDhehSuR2CdQKqCUUk7++RAtFn1uQ7FxkC6SQwCo8LWQJVliGP70OBAUI2XbtLsxEDVeOkmsZasQFpkO9/HnuNAKVyPwhXvwUAs1JrmOufgQGuad5zOsMdA54wo7e0wrUBlGeJYl1y6QHIz3IBbH8ZA5dAi2/kyxkAnMQis7vzkQDVeuknsssNA9ihcj0LnnkBDHOviVk2qQDLmriVcBbxANV66SaxXwkBNhA1PdyXMQNjw9Eo5KqVAx4Ds9cJU2ED4wmSqVK3TQOauJeSTSslA7nw/NT4KukCJ78SsbgLgQPmgZ7Puq8lAvAUSFJ9ysUAjZ2FPiV3SQNxoAG+RzsNA93XgnJHrt0AgQfFjJB7AQMUgsHLowJpA0m9fB3pHyEAnoImwcSTDQLpJDALbqcRAnDOitE8swEC8dJMYxKfAQBfZzvdD6sdAQmDl0NoW2EDP91PjpaSqQBIUP8Zsta9AXmOXqBDG2UB0RpT2Mh3MQISezaqfI7lAsDic+Rus1UDFjzF3jRy0QBdIUPyYwZFAUkmdgHpn2kCGONbFDcjkQH0/NV66/8BAg8DKoWqI40APC7WmxlHmQCBB8WM8ZLlAduCcEZXlskAU0ETYMM+uQGDl0CK7L7FAj+TyH1IpuEBpb/CFH4/mQHsUrkfJNrxAryXkg+ZiyEArhxbZUIbmQHWTGATGJchAHcnlP2TWw0A/NV66iTKkQNejcD0KaZNArkfhevyU40AgQfFjvEPDQIPAyqEFnrJA7lpCPjD2xUBkO99PpTG+QG+BBMW/PrVAqn06HiWf2UCL/WX3zv7gQLyWkA86cKBAw/UoXC+Ev0BMpgpGdXSiQJ+rrdjvYaJAaJHtfP/zq0A7AU2EfQKpQDp6/N6egNxAsp3vpzSq40B/arx0H3DFQK62Yn85WatAU5YhjjWSn0BeS8gH2aLCQPkP6bcnkMJAUkmdgFYJtUA9m1Wfd3HBQD81XroJ/7RAo5I6AQ2u5UDImLuWOAzEQL7BFyY74bdAJ6CJsAFdtUBcj8L1KP6aQMDsnjycvcNAOGdEaWs7wEAbDeAt0AGfQC/dJAYBM6NANV66SXy5x0DOqs/Vfq/CQE8eFmpNnMlA7Q2+MBEwxUBq3nGKzuPHQBniWBfXScNAke18P0UAxkD8qfHSrVnJQNEi2/n+vJNAvp8aLxG9w0C0yHa+jfzjQLFQa5qvCLpAoWez6m1E0EC2hHzQM1OhQD7o2axafbpA0NVW7H/o0kCgGi/dtKjDQGQ730/tirBARwN4C6BzwkDb+X5qnFvLQMKGp1fyt8JAa5p3nGC840D0/dR4qTirQMBbIEGjq+FAp658li7F5UBbQj7oPc7AQMuhRbaf0dFArK3YX80e5UBSJ6CJsFutQLfRAN6aPcFAvJaQDy5bw0DFA8qm7OzGQAWjkjohbZlAvHSTGHS2wEBiEFg5BO2nQDvfT43PFNNAK4cW2W7JnUAldQKaRMHLQNUJaCLkHMdAXwzlRBu60ECjkjoBRaezQD0K16PQMb9AW7G/7FqG1kBNFYxKujS1QA1xrIt5uuFAqFfKMoSrrkBcj8L16OGiQNNNYhA4mNJAjSjtDZ79p0D6fmq8iMPBQHE9CtdPIcdAJQaBlcN+v0AIrBxapIq7QBfZzveD98tAdZMYBD4Vu0C/8bVnUknbQHE9Ctdjx8VASwLU1Jr+yEBPr5RlIFXRQFYOLbK9XbxAuY0G8D6gxEBQjZduskq7QDhnRGlnGL1ABaOSOmEut0CcM6K050bDQPyp8dLN1NFA+Q/pty/rkUBseHqlFFXCQIlBYOUQ8tdAEOm3r4P+sECwcmiRLQ65QNxoAG+V4shAMEymCkb1nUBKe4MvlFm0QACRfvv6SMpAmpmZmTketkDjpZvEoJGTQNPe4AvTV6VACKwcWvSy1EAs1JrmfSm8QGiR7Xyv4dFArWnecSqqsEB4CyQohm+yQF66SQwSJMdAV+wvuyF80UAsZRniuIa7QE3zjlPs9MtAXI/C9ShuoEBEaW/wFfHiQET67euAX5xA4L4OnNszvkA5fxMKL8/bQMuhRbbDsaBAnYAmwgaukUCfzarPldupQClcj8J1Y8JATtGRXP7YuEADCYof24LFQME5I0rjTLFAY+5aQk7QtUCcM6K0t1edQN0kBoGFNaZA1XjpJjEbrECwcmiRU9rWQALZ693s6+pAukkMAusVvUAwTKYK5vGkQLhAguKHV5lA1CtlGZoNwEBPHhZqzXXIQCuHFtmKYs9A4lgXt7tk5UAEVg4taEnUQF5LyAetVeNA30+Nl37lt0DjpZvE4CjKQGsr9pddkrRA3nGKjrxvskCZu5aQ9+/GQBx8YTJ1AbVA3nGKjlT4u0D4U+OlOzKxQIxK6gTcxMZAseHplUoCuUDRItv5FqfIQGiR7Xw/2ZdAhxbZzvcRyEA3GsBboJbhQCEf9Gx649pA097gCwesw0BqvHSTHvrlQD81XrpZSMNAeqUsQxwMo0CYbhKDQDynQHNoke3QtMRA5WGh1sQy4kDD9Shcz5PLQDXvOEX1j+RA0SLb+dboxkB+HThnuorXQEw3iUFgTZ1AZF3cRsUB5EDV52or/uTOQPq4NlSKytFAAiuHFrlqxUAIrBxaMITmQDvfT40X77tAMuauJdj2x0DmriXkC1K1QOkmMQg8J8FA2/l+alzIuUDMXUvIx9WRQD0K16MQnMZAY3/ZPc2kyUD+1HjppiexQBBYObTohMBAAJF++7qAqkB4eqUs4063QLKd76cGwbpA5dAi25FdwUCSXP5DOgSlQDC7Jw8Xh9lAoImw4cn9uUCPwvUoPIq4QMuhRbbzp7hA46WbxCDmqkCVZYhjHcqlQK+UZYizM6RAmpmZmeOV5kC+wRcm+w2zQCL99nXsQdNAi2zn+5uU2kCjkjoBLZi0QNnO91NjSppAF0hQ/JBUx0BE+u3rvqTcQAfwFkjQS7xA8IXJVHVbxEAVjErqVJXlQOAtkKCAecpAL90kBvGDyUCASL99g1XTQHQkl/8gW6FAG55eKUuKmUCASL99rYqgQBb7y+5t+MBAoImw4THE50A2zTtOSTWyQLbz/dTIvb9ArBxaZEuyyEDSAN4CMdSxQGpN847r7rJAf9k9ebjRvUC28/3UCKHNQCUGgZUTFtFA/yH99hWepEBFR3L5lXjgQJ2AJsJaF8xA7nw/Nf7KvUAB3gIJgom0QDC7Jw+rUqNAmggbnpRD1UD2XRH8qx/hQM/3U+P1eMlAdk8eFjp9tEAOLbKdj0XKQPYoXI9CS8pAjZduEkNwtUCQMXctaeCwQMP1KFxvarhAsyRATVW92EDZzvdTI8OmQD81XropgMdAdEaU9mZPykDAWyBBwZG4QBrAWyAh3qZANV66SUxeuECPwvUofLjDQAisHFoktLxAfh04Z2RBskCLbOf76eTHQMmTpGsqW99A5dAi2+WCwUAawFsgAQCiQAtGJXXSh8JA5j+k336HkUB8YTJVyKbCQNbFbTTwUqFAvw6cM+JxmUDoaiv2b1vJQD0K16MQzcZA001iEBj4u0DsUbge6RDjQPtcbcXG1rhAZDvfT11300Btxf6yb4fGQFTjpZvcLOdAzqrP1S6vsUD0/dR40QrjQMe6uI1oitNA/Yf023dHrkA9Ctej8IHkQHMR34nxoMhA63O1FUcJ5ECtUQ/ROs3bQL99HTg3VKVAIbByaJEyqkBmZmZmVkXMQH3Qs1lJjsJAZ2FPO8bY2UDTTWIQWIqyQK8l5IPYZ9dA9GxWfQZevUDi6ZWyvJ+pQNCzWfVpysBAescpOlLnxEA3GsBbYICzQL7BFyajv6NAMQisHFp9m0BO0ZFcPiWiQPW52ophhc9AAiuHFil8vkCmm8Qg0K2mQAyTqYJV9MJAfoy5awkZs0B2w7ZFR+vYQCuHFtlWlLFA2/l+avy/0kD7ljldGmfQQKpgVFIPM7NAexSuR6HIvUDpSC7/BW3AQHZPHhYMrdtAUrgehdOmsUCjAbwF8nXMQLgehevRZapA5WGh1tzou0DByqFFNsPDQGwJ+aB3bLVADwu1ph8J0EBt5/upeTK/QIPAyqGF+rxAF9nO9/sfy0C7uI0GwJe5QDlFR3LRk7RAXkvIB3H00ED+1HjpGtXgQM3MzMzM055A2Nglqgu81EDvycNCxdnAQKmkTkBjUbFAxLEubkNWsUDVCWgizlTYQL4Ts15estZAZohjXdxyw0CDwMqhhSbAQJEPejbvU9JAiGh0B4nc4UBaZDvfnx7BQKjGSzeJB7VARpT2Bn+ux0C4rwPnfCqlQDEIrBzaJ69ABaOSOqVnyECM1lHVvGjZQESLbOdLL8FA5j+k33Jh4UAKaCJsZJzkQCKOdXEbvJpA2V92T+68wECR7Xw/tZCfQO/Jw0K5ENBA5nlwd9gW1UDwp8ZLNz3DQM9m1ef63bpAA3gLJFIr1UBWDi2y+bDlQJ/Nqs+FKbBAVTAqqe/ZykC94xQdCUvJQL6fGi89n8dAw2SqYI5N4kD2l92TsGXjQD2bVZ+rlaFAybCKN2r31UAQWDm0tsLTQC0hH/TMoppAvsEXJnpY4EDFILBy6LKoQCBB8WMIQcZArkfhejRe1UCrz9VWDJ28QCntDb6suuVAC7WmeVcUrED4U+Ol82XjQD7o2awiV79AOGdEaUcdzEBn1edqAyTCQPCnxktft9hAnl4py/AyqkCoV8oyQLHEQOf7qfHCKsBAJgFqalOC0UAHX5hM9WGjQEGC4se4brFAK/aX3VP2nkCxv+yeHJHGQNDVVuxH6edAFvvL7jGUuUCiRbbz3Uy2QLTIdr5/hbtAP1dbsReJwUCI9NvXaX22QNqs+lztBsxAJzEIrGxYxUBSJ6CJ9nfjQNlfdk86S8tAGlHaGxzWnUCUh4VaU6DHQA3gLZAkyslA9pfdk9fSsUDb+X5qrLPAQIEmwoaHbKBAP8bctQTu4EB+HThnxJzNQJ+T3jcGNsdAvAUSFGdmsUCkcD0K59+2QDm0yHb+2K9AqoJRSeFVzUA9Ctej0JPSQLbz/dQsFsVASS7/IZ0sxkDecYqOdArDQGDl0CKLqMRA9wZfmIJZ5EAtIR/0RAvGQClcj8L1DqxAx0s3iXGO4EBEi2znqxHGQEw3iUEw0bFAB84ZUSbM5UALtaZ5hyqaQBMn9ztkgdZAF7fRAD42qUCWIY51E2LQQM/3U+O1+sVA4lgXt9Eeq0AdyeU/pDHGQOLplbIm8dNAejarPncxxEAfhetRFI7BQEdy+Q/5fsRAGQRWDi2wpkDByqFFrs7AQHE9CtczfMZAn82qz6d75EC0yHa+O53XQDojSnsrwLRAXwfOGTG4okAGEhQ/vhvFQK+UZYgzA8JANxrAW5Kj4UCLbOf7V7HiQO58PzVuPbZA+n5qvMiu4EBeS8gHlU3AQHgLJCiuyOZAu+1Cc9910kDy0k1iBvnjQLdif9lN18tAIbByaFHzw0DXNO84hcy2QNIYraMuC8xADAIrh5YDm0DKMsSxJsPAQGDl0CLb2qxAsyRATUE51EBZF7fRhIPDQJKumXxVNtNApSxDHMumxUBU46WbhMe9QB4Wak2T0KhA3SQGgbXwrEArMGR1VwTiQJf/kH4DrMFACKwcWoQSv0DbbReaf3vaQJSHhVoTwrhAQmDl0DLPwkCLbOf7jQzGQLTlXIrarelA7uvAOSOroUAUrkfh+hPFQGDl0CK7W7dA+zpwzng3oUBn1edq6+XHQEku/yGp/eNAeVioNXX+tUBO0ZFcloPFQGKh1jQ3PLxAidLe4Fdl40Bos+pzCS3MQLN78rBwN6NA30+Nl64rr0BZF7fRQC++QMGopE4wBLRAYr68AMuE0kDD0ytlqTGhQEHxY8yN8btA7FG4Hv1rtEC+MJkqQHPFQDEIrBx6sbFAcT0K16M+skAgY+5aWuC3QLMMcayrxtBAZmZmZqbz1UBX7C+7z6rFQHL5D+nXOblAaCJseOpRsUC28/3UuNSgQMRCrWnqU9dAQmDl0OJguUCYTBWM+qamQOC+DpyX5dJASOF6FMbivUBI4XoUXkWmQESLbOf7kaRA/7J78rBzwkBLyAc9D+bRQMPTK2XpzcBAAAAAACtL4kAwTKYKZgrLQFtCPujVQtVAVn2utlajyUA5tMh2Zs+0QHnMQGW8zspAg1FJnZRtyUCuR+F6mO/AQI51cRsVJrBA4PPDCK1l0kBUUiegcUPgQGZmZmbWQ7ZAxf6ye5r5uECuR+F6tEazQCL99nXANrhATmIQWJ0OwUDx9EpZpg6gQOF6FK4HdsNA/fZ14NzL0UDr4jYagPyzQKBU+3TTBeJASgwCK+/B4kDvycNCN9LTQHWTGASWHchAke18P139tEC21hcJwQLXQHrHKTrSmZpArBxaZGsbxUCZKhiVJOiuQE9AE2EHLclAHThnRKkntUAijnVxO7SvQAaBlUOzV+RA0LNZ9SlxvUAaUdobNG6yQI/k8h+CwblAN4lBYFV9wECVgm4va4PZQCnLEMd6yrpAA3gLJKi7skA6I0p7i/C5QAMJih8D+rtAW9O84xyxxEC1N/jCIFHHQMO7XMSsTu1AHvmDgdWx00BApN++2l/IQFCNl27CKMZAveMUHeGhwEBdbcX+IhelQNqs+lztOMxA5x2n6Czgx0C1pnnHgUm7QLwFEhTfTKlA2c73U7sU50AcfGEyNTXoQK36XG1FyLBAnzws1DrHqEBkXdxGw7+RQDm0yHZe77VAGy/dJObGwUA1XrpJLKu3QCxlGeLYh5lAQxzr4vBc4kAu/yH9GjbSQPYoXI9CZpNA2/l+amy0z0AS2nIuaerOQJvmHacoP7FA2c73UwNKuUDF/rJ7XlbGQD2bVZ/3FMZA7C+7J+Vb3UD8GHPX4urDQBpR2hs8wLFAUI2XblKaqUB7FK5HMXK6QGiR7Xy/qbxA+zpwznRBxEBE+u3roEvaQI/C9Sg86MRAKA8LtcG54ECcxCCw8mGdQGZmZmam08BAkst/SA+5qUAep+hInpunQGPuWkIqR8xA9bnaig2LskC3Yn/Z1aTQQNejcD2qZ8VAN4lBYOVrpUB4eqUsCwWxQM3MzMyC79VALSEf9BxdsEAydy0h1y3AQCgPC7Xs9ddA5IOezbrly0BhMlUwauGaQI/C9Sh8JedAutqK/VWrwEB2cRsNQCmtQOf7qfFyYLVAMQisHBK54kCMuWsJeeu7QKRwPQrn3btAc2iR7ZQB4UCQMXctYa2XQKyt2F/yKsJA6SYxCJBNx0CF61G4HrOeQBfZzvezs5pAzojS3nD0sEAbDeAteI20QDSitDeoLaVAj3Ba8BuQ7kBiEFg5xc/mQOf7qfGSEalAeHqlLLd44kBhMlUw2MLUQIiFWtM8QaNA0SLb+aZ5z0BVwaikHvjUQIlBYOWUjeBAdZMYBPbbukBE+u3r6By7QJ0Rpb1p27FAqvHSTUK4sUBQjZdussXhQNJvXwd4U9JAHM78aioExkCR7Xw/tQ6bQHBfB87ZLZJAkZvhBi4K00Bn1edqsyG8QF3+Q/oFMbVAfPKwUFVx20AdyeU/rFrJQDBMpgoMb+VAxty1hOSPsEAZ4lgXq6vJQGiz6nMFirtAWKg1zfNQwkAYz6Ch797VQH0/NV6aKsRAHHxhMpWqyEDI72369xXFQOF6FK7XScZAM8SxLka0xEDV52or9juhQN0kBoFVd5lA4XoUrsdfn0AwuycPV3XcQA==",
          "dtype": "f8"
         },
         "yaxis": "y"
        }
       ],
       "layout": {
        "coloraxis": {
         "colorbar": {
          "title": {
           "text": "charges_bmi_ratio"
          }
         },
         "colorscale": [
          [
           0,
           "#0d0887"
          ],
          [
           0.1111111111111111,
           "#46039f"
          ],
          [
           0.2222222222222222,
           "#7201a8"
          ],
          [
           0.3333333333333333,
           "#9c179e"
          ],
          [
           0.4444444444444444,
           "#bd3786"
          ],
          [
           0.5555555555555556,
           "#d8576b"
          ],
          [
           0.6666666666666666,
           "#ed7953"
          ],
          [
           0.7777777777777778,
           "#fb9f3a"
          ],
          [
           0.8888888888888888,
           "#fdca26"
          ],
          [
           1,
           "#f0f921"
          ]
         ]
        },
        "legend": {
         "tracegroupgap": 0
        },
        "template": {
         "data": {
          "bar": [
           {
            "error_x": {
             "color": "#2a3f5f"
            },
            "error_y": {
             "color": "#2a3f5f"
            },
            "marker": {
             "line": {
              "color": "#E5ECF6",
              "width": 0.5
             },
             "pattern": {
              "fillmode": "overlay",
              "size": 10,
              "solidity": 0.2
             }
            },
            "type": "bar"
           }
          ],
          "barpolar": [
           {
            "marker": {
             "line": {
              "color": "#E5ECF6",
              "width": 0.5
             },
             "pattern": {
              "fillmode": "overlay",
              "size": 10,
              "solidity": 0.2
             }
            },
            "type": "barpolar"
           }
          ],
          "carpet": [
           {
            "aaxis": {
             "endlinecolor": "#2a3f5f",
             "gridcolor": "white",
             "linecolor": "white",
             "minorgridcolor": "white",
             "startlinecolor": "#2a3f5f"
            },
            "baxis": {
             "endlinecolor": "#2a3f5f",
             "gridcolor": "white",
             "linecolor": "white",
             "minorgridcolor": "white",
             "startlinecolor": "#2a3f5f"
            },
            "type": "carpet"
           }
          ],
          "choropleth": [
           {
            "colorbar": {
             "outlinewidth": 0,
             "ticks": ""
            },
            "type": "choropleth"
           }
          ],
          "contour": [
           {
            "colorbar": {
             "outlinewidth": 0,
             "ticks": ""
            },
            "colorscale": [
             [
              0,
              "#0d0887"
             ],
             [
              0.1111111111111111,
              "#46039f"
             ],
             [
              0.2222222222222222,
              "#7201a8"
             ],
             [
              0.3333333333333333,
              "#9c179e"
             ],
             [
              0.4444444444444444,
              "#bd3786"
             ],
             [
              0.5555555555555556,
              "#d8576b"
             ],
             [
              0.6666666666666666,
              "#ed7953"
             ],
             [
              0.7777777777777778,
              "#fb9f3a"
             ],
             [
              0.8888888888888888,
              "#fdca26"
             ],
             [
              1,
              "#f0f921"
             ]
            ],
            "type": "contour"
           }
          ],
          "contourcarpet": [
           {
            "colorbar": {
             "outlinewidth": 0,
             "ticks": ""
            },
            "type": "contourcarpet"
           }
          ],
          "heatmap": [
           {
            "colorbar": {
             "outlinewidth": 0,
             "ticks": ""
            },
            "colorscale": [
             [
              0,
              "#0d0887"
             ],
             [
              0.1111111111111111,
              "#46039f"
             ],
             [
              0.2222222222222222,
              "#7201a8"
             ],
             [
              0.3333333333333333,
              "#9c179e"
             ],
             [
              0.4444444444444444,
              "#bd3786"
             ],
             [
              0.5555555555555556,
              "#d8576b"
             ],
             [
              0.6666666666666666,
              "#ed7953"
             ],
             [
              0.7777777777777778,
              "#fb9f3a"
             ],
             [
              0.8888888888888888,
              "#fdca26"
             ],
             [
              1,
              "#f0f921"
             ]
            ],
            "type": "heatmap"
           }
          ],
          "histogram": [
           {
            "marker": {
             "pattern": {
              "fillmode": "overlay",
              "size": 10,
              "solidity": 0.2
             }
            },
            "type": "histogram"
           }
          ],
          "histogram2d": [
           {
            "colorbar": {
             "outlinewidth": 0,
             "ticks": ""
            },
            "colorscale": [
             [
              0,
              "#0d0887"
             ],
             [
              0.1111111111111111,
              "#46039f"
             ],
             [
              0.2222222222222222,
              "#7201a8"
             ],
             [
              0.3333333333333333,
              "#9c179e"
             ],
             [
              0.4444444444444444,
              "#bd3786"
             ],
             [
              0.5555555555555556,
              "#d8576b"
             ],
             [
              0.6666666666666666,
              "#ed7953"
             ],
             [
              0.7777777777777778,
              "#fb9f3a"
             ],
             [
              0.8888888888888888,
              "#fdca26"
             ],
             [
              1,
              "#f0f921"
             ]
            ],
            "type": "histogram2d"
           }
          ],
          "histogram2dcontour": [
           {
            "colorbar": {
             "outlinewidth": 0,
             "ticks": ""
            },
            "colorscale": [
             [
              0,
              "#0d0887"
             ],
             [
              0.1111111111111111,
              "#46039f"
             ],
             [
              0.2222222222222222,
              "#7201a8"
             ],
             [
              0.3333333333333333,
              "#9c179e"
             ],
             [
              0.4444444444444444,
              "#bd3786"
             ],
             [
              0.5555555555555556,
              "#d8576b"
             ],
             [
              0.6666666666666666,
              "#ed7953"
             ],
             [
              0.7777777777777778,
              "#fb9f3a"
             ],
             [
              0.8888888888888888,
              "#fdca26"
             ],
             [
              1,
              "#f0f921"
             ]
            ],
            "type": "histogram2dcontour"
           }
          ],
          "mesh3d": [
           {
            "colorbar": {
             "outlinewidth": 0,
             "ticks": ""
            },
            "type": "mesh3d"
           }
          ],
          "parcoords": [
           {
            "line": {
             "colorbar": {
              "outlinewidth": 0,
              "ticks": ""
             }
            },
            "type": "parcoords"
           }
          ],
          "pie": [
           {
            "automargin": true,
            "type": "pie"
           }
          ],
          "scatter": [
           {
            "fillpattern": {
             "fillmode": "overlay",
             "size": 10,
             "solidity": 0.2
            },
            "type": "scatter"
           }
          ],
          "scatter3d": [
           {
            "line": {
             "colorbar": {
              "outlinewidth": 0,
              "ticks": ""
             }
            },
            "marker": {
             "colorbar": {
              "outlinewidth": 0,
              "ticks": ""
             }
            },
            "type": "scatter3d"
           }
          ],
          "scattercarpet": [
           {
            "marker": {
             "colorbar": {
              "outlinewidth": 0,
              "ticks": ""
             }
            },
            "type": "scattercarpet"
           }
          ],
          "scattergeo": [
           {
            "marker": {
             "colorbar": {
              "outlinewidth": 0,
              "ticks": ""
             }
            },
            "type": "scattergeo"
           }
          ],
          "scattergl": [
           {
            "marker": {
             "colorbar": {
              "outlinewidth": 0,
              "ticks": ""
             }
            },
            "type": "scattergl"
           }
          ],
          "scattermap": [
           {
            "marker": {
             "colorbar": {
              "outlinewidth": 0,
              "ticks": ""
             }
            },
            "type": "scattermap"
           }
          ],
          "scattermapbox": [
           {
            "marker": {
             "colorbar": {
              "outlinewidth": 0,
              "ticks": ""
             }
            },
            "type": "scattermapbox"
           }
          ],
          "scatterpolar": [
           {
            "marker": {
             "colorbar": {
              "outlinewidth": 0,
              "ticks": ""
             }
            },
            "type": "scatterpolar"
           }
          ],
          "scatterpolargl": [
           {
            "marker": {
             "colorbar": {
              "outlinewidth": 0,
              "ticks": ""
             }
            },
            "type": "scatterpolargl"
           }
          ],
          "scatterternary": [
           {
            "marker": {
             "colorbar": {
              "outlinewidth": 0,
              "ticks": ""
             }
            },
            "type": "scatterternary"
           }
          ],
          "surface": [
           {
            "colorbar": {
             "outlinewidth": 0,
             "ticks": ""
            },
            "colorscale": [
             [
              0,
              "#0d0887"
             ],
             [
              0.1111111111111111,
              "#46039f"
             ],
             [
              0.2222222222222222,
              "#7201a8"
             ],
             [
              0.3333333333333333,
              "#9c179e"
             ],
             [
              0.4444444444444444,
              "#bd3786"
             ],
             [
              0.5555555555555556,
              "#d8576b"
             ],
             [
              0.6666666666666666,
              "#ed7953"
             ],
             [
              0.7777777777777778,
              "#fb9f3a"
             ],
             [
              0.8888888888888888,
              "#fdca26"
             ],
             [
              1,
              "#f0f921"
             ]
            ],
            "type": "surface"
           }
          ],
          "table": [
           {
            "cells": {
             "fill": {
              "color": "#EBF0F8"
             },
             "line": {
              "color": "white"
             }
            },
            "header": {
             "fill": {
              "color": "#C8D4E3"
             },
             "line": {
              "color": "white"
             }
            },
            "type": "table"
           }
          ]
         },
         "layout": {
          "annotationdefaults": {
           "arrowcolor": "#2a3f5f",
           "arrowhead": 0,
           "arrowwidth": 1
          },
          "autotypenumbers": "strict",
          "coloraxis": {
           "colorbar": {
            "outlinewidth": 0,
            "ticks": ""
           }
          },
          "colorscale": {
           "diverging": [
            [
             0,
             "#8e0152"
            ],
            [
             0.1,
             "#c51b7d"
            ],
            [
             0.2,
             "#de77ae"
            ],
            [
             0.3,
             "#f1b6da"
            ],
            [
             0.4,
             "#fde0ef"
            ],
            [
             0.5,
             "#f7f7f7"
            ],
            [
             0.6,
             "#e6f5d0"
            ],
            [
             0.7,
             "#b8e186"
            ],
            [
             0.8,
             "#7fbc41"
            ],
            [
             0.9,
             "#4d9221"
            ],
            [
             1,
             "#276419"
            ]
           ],
           "sequential": [
            [
             0,
             "#0d0887"
            ],
            [
             0.1111111111111111,
             "#46039f"
            ],
            [
             0.2222222222222222,
             "#7201a8"
            ],
            [
             0.3333333333333333,
             "#9c179e"
            ],
            [
             0.4444444444444444,
             "#bd3786"
            ],
            [
             0.5555555555555556,
             "#d8576b"
            ],
            [
             0.6666666666666666,
             "#ed7953"
            ],
            [
             0.7777777777777778,
             "#fb9f3a"
            ],
            [
             0.8888888888888888,
             "#fdca26"
            ],
            [
             1,
             "#f0f921"
            ]
           ],
           "sequentialminus": [
            [
             0,
             "#0d0887"
            ],
            [
             0.1111111111111111,
             "#46039f"
            ],
            [
             0.2222222222222222,
             "#7201a8"
            ],
            [
             0.3333333333333333,
             "#9c179e"
            ],
            [
             0.4444444444444444,
             "#bd3786"
            ],
            [
             0.5555555555555556,
             "#d8576b"
            ],
            [
             0.6666666666666666,
             "#ed7953"
            ],
            [
             0.7777777777777778,
             "#fb9f3a"
            ],
            [
             0.8888888888888888,
             "#fdca26"
            ],
            [
             1,
             "#f0f921"
            ]
           ]
          },
          "colorway": [
           "#636efa",
           "#EF553B",
           "#00cc96",
           "#ab63fa",
           "#FFA15A",
           "#19d3f3",
           "#FF6692",
           "#B6E880",
           "#FF97FF",
           "#FECB52"
          ],
          "font": {
           "color": "#2a3f5f"
          },
          "geo": {
           "bgcolor": "white",
           "lakecolor": "white",
           "landcolor": "#E5ECF6",
           "showlakes": true,
           "showland": true,
           "subunitcolor": "white"
          },
          "hoverlabel": {
           "align": "left"
          },
          "hovermode": "closest",
          "mapbox": {
           "style": "light"
          },
          "paper_bgcolor": "white",
          "plot_bgcolor": "#E5ECF6",
          "polar": {
           "angularaxis": {
            "gridcolor": "white",
            "linecolor": "white",
            "ticks": ""
           },
           "bgcolor": "#E5ECF6",
           "radialaxis": {
            "gridcolor": "white",
            "linecolor": "white",
            "ticks": ""
           }
          },
          "scene": {
           "xaxis": {
            "backgroundcolor": "#E5ECF6",
            "gridcolor": "white",
            "gridwidth": 2,
            "linecolor": "white",
            "showbackground": true,
            "ticks": "",
            "zerolinecolor": "white"
           },
           "yaxis": {
            "backgroundcolor": "#E5ECF6",
            "gridcolor": "white",
            "gridwidth": 2,
            "linecolor": "white",
            "showbackground": true,
            "ticks": "",
            "zerolinecolor": "white"
           },
           "zaxis": {
            "backgroundcolor": "#E5ECF6",
            "gridcolor": "white",
            "gridwidth": 2,
            "linecolor": "white",
            "showbackground": true,
            "ticks": "",
            "zerolinecolor": "white"
           }
          },
          "shapedefaults": {
           "line": {
            "color": "#2a3f5f"
           }
          },
          "ternary": {
           "aaxis": {
            "gridcolor": "white",
            "linecolor": "white",
            "ticks": ""
           },
           "baxis": {
            "gridcolor": "white",
            "linecolor": "white",
            "ticks": ""
           },
           "bgcolor": "#E5ECF6",
           "caxis": {
            "gridcolor": "white",
            "linecolor": "white",
            "ticks": ""
           }
          },
          "title": {
           "x": 0.05
          },
          "xaxis": {
           "automargin": true,
           "gridcolor": "white",
           "linecolor": "white",
           "ticks": "",
           "title": {
            "standoff": 15
           },
           "zerolinecolor": "white",
           "zerolinewidth": 2
          },
          "yaxis": {
           "automargin": true,
           "gridcolor": "white",
           "linecolor": "white",
           "ticks": "",
           "title": {
            "standoff": 15
           },
           "zerolinecolor": "white",
           "zerolinewidth": 2
          }
         }
        },
        "title": {
         "text": "Scatter Plot of Age vs Charges by BMI Category"
        },
        "xaxis": {
         "anchor": "y",
         "domain": [
          0,
          1
         ],
         "title": {
          "text": "Age"
         }
        },
        "yaxis": {
         "anchor": "x",
         "domain": [
          0,
          1
         ],
         "title": {
          "text": "Charges"
         }
        }
       }
      }
     },
     "metadata": {},
     "output_type": "display_data"
    }
   ],
   "source": [
    "fig = px.scatter(df, x='age', y='charges', color='charges_bmi_ratio',\n",
    "                title='Scatter Plot of Age vs Charges by BMI Category',\n",
    "                labels={'age': 'Age', 'charges': 'Charges', 'bmi_category': 'charges_bmi_ratio'},)\n",
    "fig.show()\n"
   ]
  },
  {
   "cell_type": "markdown",
   "id": "34972857",
   "metadata": {},
   "source": [
    "This scatter plot is visualising the relationship between an individuals BMI, children and healthcare insurance charges. The scatter plot indicates that an individual with a higher BMI is paying more towards their medical insurance, than someone who has a lower BMI. Furthermore, the outliers within the plot represent individuals who incur significantly higher charges, all of whom have a high BMI."
   ]
  },
  {
   "cell_type": "code",
   "execution_count": 23,
   "id": "505ea7af",
   "metadata": {},
   "outputs": [
    {
     "data": {
      "application/vnd.plotly.v1+json": {
       "config": {
        "plotlyServerURL": "https://plot.ly"
       },
       "data": [
        {
         "hovertemplate": "Children=%{x}<br>Charges=%{y}<br>charges_bmi_ratio=%{marker.color}<extra></extra>",
         "legendgroup": "",
         "marker": {
          "color": {
           "bdata": "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",
           "dtype": "f8"
          },
          "coloraxis": "coloraxis",
          "symbol": "circle"
         },
         "mode": "markers",
         "name": "",
         "showlegend": false,
         "type": "scattergl",
         "x": {
          "bdata": "AAEDAAAAAQMCAAAAAAAAAQEAAAAAAQABAgMAAgECAAAFAAEAAwABAAACAQIBAAIAAAEAAgEAAwICAgECAwQBAQAAAgEAAwAFAwECAAEAAAABAAEEAgIAAAAAAAEDAgIBAwAAAAAAAAMBAQECAAABAgAAAwAAAQACAgAAAQMAAAACAgAAAgAAAAAAAwACAQICAwMDAQEBAQADAAEAAAAAAwAAAQIABAUDAQMAAAABAAACAQIDAAADAAIDAgMBAgAAAAEAAAACAAAAAQAAAAEAAgABAQQCAQICAAABAAEAAwAAAwAAAQIBAwABAgIAAgABAgEBAwAAAAABAQICAgMAAwAABAAAAQMAAwMBAwEBAQICAQACAgACAQEDAQEAAQIAAQMAAQIAAwAAAQMBAwMCAgICAgEAAgAAAwAAAAAAAAEBBAAAAAEBAgEAAQAAAAIAAAEBAQAAAAAEAwIBAQAAAAAAAAADAwAAAgEAAQIBAwICAwAAAQIAAAMAAwECAAACAgAAAgADBAABAQIAAwACAAABAAMAAgABAwEAAQIFAAEAAgEAAAABAAIFAQABAwACAAABAwADBQABAAABAQAAAAABBAEAAAIAAgAAAwMAAgAAAQECAQEAAAAAAwEAAAAAAwIAAQMAAwAAAQAAAAAEAAICAgAAAAEAAQMBAgAAAQAAAAEAAQIBAAAAAAABAAIBAQABAAIAAAEDAgEAAwIAAAACAAIAAAAAAAIAAgEAAwACAAABAgABAgUCAAECAQIAAAEBAAECAQABAwEAAQABAgEAAQIBAgIAAAADAAAAAAICAQIAAwABAAIAAAEEAQAAAAMBAAABAAACAQABAgAEBQMAAwIDAQMAAAIBAAIAAgECAQQDAQEAAAIBAgABAwAAAAIAAwMDAgEAAgABAgIAAQEAAQEAAQACAQACAAAAAQECAAMDAAECAgAAAAEBAgAAAwAAAQMBAQABAwEDAQMBAAIDAgIAAAAAAQIAAQAAAAAABAIDAAMAAgEBAAIAAQEAAgMCAAACAwIAAwADAAEBAQMAAAMAAAAAAAIAAgEAAAEAAQAAAAEAAAEDAwICAgAAAwEAAQAAAgACAgEDAQAAAgABAgAAAgAAAAIAAAABAQAAAAIAAgMAAAABAAIDAgAAAgABAAMAAQABAwABBQECAwEAAwQBAAAAAQAEAAIAAAIBAAAAAAMAAAIDAQMAAQADAQIAAAAAAQAAAQAAAgIBAAEBAQUAAgACBQIAAAEAAAABAgEAAwACAQIBAQEBAQEBAAEDAgECAQIFAwAAAAAAAAEDAAEAAwEFAQMBAAABAgIBAwMDAAMAAgAAAAECAgMCAQACBAEAAAECAwIAAwEBAQABAAACAQAAAAADAgEAAgAAAAABAgABAQABAAEDAAAAAAABAAEBAwQBAgABAQEAAAIAAQEAAAMCAQEBAgUAAAEAAAADAAQEAgAAAQIDAQAAAAACAQMBAwMDAAEFAgEDAAIDAQEAAAIBAAUCAAAAAwEAAAABAwACAgMAAAEAAAADAQQDAAIAAAECAQABAAACAgEBAgACAgABAQAAAQAAAQECAwABAAIBAQAAAwAAAQICAgABAwECAgEBAQIAAgEAAAIBAwECAAABAQICAAADAAMAAgAAAAMBAgIDAAAFAwQAAQAAAAQAAAMBAwAAAQEBAgAAAAADAQAFAQAAAAABAgACAAEBAAABAgECAAADAAEAAgIBAAMBAAIAAAQAAgEAAQIDAQAABAIDAAACAQAAAQICAgADAwAAAAA=",
          "dtype": "i1"
         },
         "xaxis": "x",
         "y": {
          "bdata": "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",
          "dtype": "f8"
         },
         "yaxis": "y"
        }
       ],
       "layout": {
        "coloraxis": {
         "colorbar": {
          "title": {
           "text": "charges_bmi_ratio"
          }
         },
         "colorscale": [
          [
           0,
           "#0d0887"
          ],
          [
           0.1111111111111111,
           "#46039f"
          ],
          [
           0.2222222222222222,
           "#7201a8"
          ],
          [
           0.3333333333333333,
           "#9c179e"
          ],
          [
           0.4444444444444444,
           "#bd3786"
          ],
          [
           0.5555555555555556,
           "#d8576b"
          ],
          [
           0.6666666666666666,
           "#ed7953"
          ],
          [
           0.7777777777777778,
           "#fb9f3a"
          ],
          [
           0.8888888888888888,
           "#fdca26"
          ],
          [
           1,
           "#f0f921"
          ]
         ]
        },
        "legend": {
         "tracegroupgap": 0
        },
        "template": {
         "data": {
          "bar": [
           {
            "error_x": {
             "color": "#2a3f5f"
            },
            "error_y": {
             "color": "#2a3f5f"
            },
            "marker": {
             "line": {
              "color": "#E5ECF6",
              "width": 0.5
             },
             "pattern": {
              "fillmode": "overlay",
              "size": 10,
              "solidity": 0.2
             }
            },
            "type": "bar"
           }
          ],
          "barpolar": [
           {
            "marker": {
             "line": {
              "color": "#E5ECF6",
              "width": 0.5
             },
             "pattern": {
              "fillmode": "overlay",
              "size": 10,
              "solidity": 0.2
             }
            },
            "type": "barpolar"
           }
          ],
          "carpet": [
           {
            "aaxis": {
             "endlinecolor": "#2a3f5f",
             "gridcolor": "white",
             "linecolor": "white",
             "minorgridcolor": "white",
             "startlinecolor": "#2a3f5f"
            },
            "baxis": {
             "endlinecolor": "#2a3f5f",
             "gridcolor": "white",
             "linecolor": "white",
             "minorgridcolor": "white",
             "startlinecolor": "#2a3f5f"
            },
            "type": "carpet"
           }
          ],
          "choropleth": [
           {
            "colorbar": {
             "outlinewidth": 0,
             "ticks": ""
            },
            "type": "choropleth"
           }
          ],
          "contour": [
           {
            "colorbar": {
             "outlinewidth": 0,
             "ticks": ""
            },
            "colorscale": [
             [
              0,
              "#0d0887"
             ],
             [
              0.1111111111111111,
              "#46039f"
             ],
             [
              0.2222222222222222,
              "#7201a8"
             ],
             [
              0.3333333333333333,
              "#9c179e"
             ],
             [
              0.4444444444444444,
              "#bd3786"
             ],
             [
              0.5555555555555556,
              "#d8576b"
             ],
             [
              0.6666666666666666,
              "#ed7953"
             ],
             [
              0.7777777777777778,
              "#fb9f3a"
             ],
             [
              0.8888888888888888,
              "#fdca26"
             ],
             [
              1,
              "#f0f921"
             ]
            ],
            "type": "contour"
           }
          ],
          "contourcarpet": [
           {
            "colorbar": {
             "outlinewidth": 0,
             "ticks": ""
            },
            "type": "contourcarpet"
           }
          ],
          "heatmap": [
           {
            "colorbar": {
             "outlinewidth": 0,
             "ticks": ""
            },
            "colorscale": [
             [
              0,
              "#0d0887"
             ],
             [
              0.1111111111111111,
              "#46039f"
             ],
             [
              0.2222222222222222,
              "#7201a8"
             ],
             [
              0.3333333333333333,
              "#9c179e"
             ],
             [
              0.4444444444444444,
              "#bd3786"
             ],
             [
              0.5555555555555556,
              "#d8576b"
             ],
             [
              0.6666666666666666,
              "#ed7953"
             ],
             [
              0.7777777777777778,
              "#fb9f3a"
             ],
             [
              0.8888888888888888,
              "#fdca26"
             ],
             [
              1,
              "#f0f921"
             ]
            ],
            "type": "heatmap"
           }
          ],
          "histogram": [
           {
            "marker": {
             "pattern": {
              "fillmode": "overlay",
              "size": 10,
              "solidity": 0.2
             }
            },
            "type": "histogram"
           }
          ],
          "histogram2d": [
           {
            "colorbar": {
             "outlinewidth": 0,
             "ticks": ""
            },
            "colorscale": [
             [
              0,
              "#0d0887"
             ],
             [
              0.1111111111111111,
              "#46039f"
             ],
             [
              0.2222222222222222,
              "#7201a8"
             ],
             [
              0.3333333333333333,
              "#9c179e"
             ],
             [
              0.4444444444444444,
              "#bd3786"
             ],
             [
              0.5555555555555556,
              "#d8576b"
             ],
             [
              0.6666666666666666,
              "#ed7953"
             ],
             [
              0.7777777777777778,
              "#fb9f3a"
             ],
             [
              0.8888888888888888,
              "#fdca26"
             ],
             [
              1,
              "#f0f921"
             ]
            ],
            "type": "histogram2d"
           }
          ],
          "histogram2dcontour": [
           {
            "colorbar": {
             "outlinewidth": 0,
             "ticks": ""
            },
            "colorscale": [
             [
              0,
              "#0d0887"
             ],
             [
              0.1111111111111111,
              "#46039f"
             ],
             [
              0.2222222222222222,
              "#7201a8"
             ],
             [
              0.3333333333333333,
              "#9c179e"
             ],
             [
              0.4444444444444444,
              "#bd3786"
             ],
             [
              0.5555555555555556,
              "#d8576b"
             ],
             [
              0.6666666666666666,
              "#ed7953"
             ],
             [
              0.7777777777777778,
              "#fb9f3a"
             ],
             [
              0.8888888888888888,
              "#fdca26"
             ],
             [
              1,
              "#f0f921"
             ]
            ],
            "type": "histogram2dcontour"
           }
          ],
          "mesh3d": [
           {
            "colorbar": {
             "outlinewidth": 0,
             "ticks": ""
            },
            "type": "mesh3d"
           }
          ],
          "parcoords": [
           {
            "line": {
             "colorbar": {
              "outlinewidth": 0,
              "ticks": ""
             }
            },
            "type": "parcoords"
           }
          ],
          "pie": [
           {
            "automargin": true,
            "type": "pie"
           }
          ],
          "scatter": [
           {
            "fillpattern": {
             "fillmode": "overlay",
             "size": 10,
             "solidity": 0.2
            },
            "type": "scatter"
           }
          ],
          "scatter3d": [
           {
            "line": {
             "colorbar": {
              "outlinewidth": 0,
              "ticks": ""
             }
            },
            "marker": {
             "colorbar": {
              "outlinewidth": 0,
              "ticks": ""
             }
            },
            "type": "scatter3d"
           }
          ],
          "scattercarpet": [
           {
            "marker": {
             "colorbar": {
              "outlinewidth": 0,
              "ticks": ""
             }
            },
            "type": "scattercarpet"
           }
          ],
          "scattergeo": [
           {
            "marker": {
             "colorbar": {
              "outlinewidth": 0,
              "ticks": ""
             }
            },
            "type": "scattergeo"
           }
          ],
          "scattergl": [
           {
            "marker": {
             "colorbar": {
              "outlinewidth": 0,
              "ticks": ""
             }
            },
            "type": "scattergl"
           }
          ],
          "scattermap": [
           {
            "marker": {
             "colorbar": {
              "outlinewidth": 0,
              "ticks": ""
             }
            },
            "type": "scattermap"
           }
          ],
          "scattermapbox": [
           {
            "marker": {
             "colorbar": {
              "outlinewidth": 0,
              "ticks": ""
             }
            },
            "type": "scattermapbox"
           }
          ],
          "scatterpolar": [
           {
            "marker": {
             "colorbar": {
              "outlinewidth": 0,
              "ticks": ""
             }
            },
            "type": "scatterpolar"
           }
          ],
          "scatterpolargl": [
           {
            "marker": {
             "colorbar": {
              "outlinewidth": 0,
              "ticks": ""
             }
            },
            "type": "scatterpolargl"
           }
          ],
          "scatterternary": [
           {
            "marker": {
             "colorbar": {
              "outlinewidth": 0,
              "ticks": ""
             }
            },
            "type": "scatterternary"
           }
          ],
          "surface": [
           {
            "colorbar": {
             "outlinewidth": 0,
             "ticks": ""
            },
            "colorscale": [
             [
              0,
              "#0d0887"
             ],
             [
              0.1111111111111111,
              "#46039f"
             ],
             [
              0.2222222222222222,
              "#7201a8"
             ],
             [
              0.3333333333333333,
              "#9c179e"
             ],
             [
              0.4444444444444444,
              "#bd3786"
             ],
             [
              0.5555555555555556,
              "#d8576b"
             ],
             [
              0.6666666666666666,
              "#ed7953"
             ],
             [
              0.7777777777777778,
              "#fb9f3a"
             ],
             [
              0.8888888888888888,
              "#fdca26"
             ],
             [
              1,
              "#f0f921"
             ]
            ],
            "type": "surface"
           }
          ],
          "table": [
           {
            "cells": {
             "fill": {
              "color": "#EBF0F8"
             },
             "line": {
              "color": "white"
             }
            },
            "header": {
             "fill": {
              "color": "#C8D4E3"
             },
             "line": {
              "color": "white"
             }
            },
            "type": "table"
           }
          ]
         },
         "layout": {
          "annotationdefaults": {
           "arrowcolor": "#2a3f5f",
           "arrowhead": 0,
           "arrowwidth": 1
          },
          "autotypenumbers": "strict",
          "coloraxis": {
           "colorbar": {
            "outlinewidth": 0,
            "ticks": ""
           }
          },
          "colorscale": {
           "diverging": [
            [
             0,
             "#8e0152"
            ],
            [
             0.1,
             "#c51b7d"
            ],
            [
             0.2,
             "#de77ae"
            ],
            [
             0.3,
             "#f1b6da"
            ],
            [
             0.4,
             "#fde0ef"
            ],
            [
             0.5,
             "#f7f7f7"
            ],
            [
             0.6,
             "#e6f5d0"
            ],
            [
             0.7,
             "#b8e186"
            ],
            [
             0.8,
             "#7fbc41"
            ],
            [
             0.9,
             "#4d9221"
            ],
            [
             1,
             "#276419"
            ]
           ],
           "sequential": [
            [
             0,
             "#0d0887"
            ],
            [
             0.1111111111111111,
             "#46039f"
            ],
            [
             0.2222222222222222,
             "#7201a8"
            ],
            [
             0.3333333333333333,
             "#9c179e"
            ],
            [
             0.4444444444444444,
             "#bd3786"
            ],
            [
             0.5555555555555556,
             "#d8576b"
            ],
            [
             0.6666666666666666,
             "#ed7953"
            ],
            [
             0.7777777777777778,
             "#fb9f3a"
            ],
            [
             0.8888888888888888,
             "#fdca26"
            ],
            [
             1,
             "#f0f921"
            ]
           ],
           "sequentialminus": [
            [
             0,
             "#0d0887"
            ],
            [
             0.1111111111111111,
             "#46039f"
            ],
            [
             0.2222222222222222,
             "#7201a8"
            ],
            [
             0.3333333333333333,
             "#9c179e"
            ],
            [
             0.4444444444444444,
             "#bd3786"
            ],
            [
             0.5555555555555556,
             "#d8576b"
            ],
            [
             0.6666666666666666,
             "#ed7953"
            ],
            [
             0.7777777777777778,
             "#fb9f3a"
            ],
            [
             0.8888888888888888,
             "#fdca26"
            ],
            [
             1,
             "#f0f921"
            ]
           ]
          },
          "colorway": [
           "#636efa",
           "#EF553B",
           "#00cc96",
           "#ab63fa",
           "#FFA15A",
           "#19d3f3",
           "#FF6692",
           "#B6E880",
           "#FF97FF",
           "#FECB52"
          ],
          "font": {
           "color": "#2a3f5f"
          },
          "geo": {
           "bgcolor": "white",
           "lakecolor": "white",
           "landcolor": "#E5ECF6",
           "showlakes": true,
           "showland": true,
           "subunitcolor": "white"
          },
          "hoverlabel": {
           "align": "left"
          },
          "hovermode": "closest",
          "mapbox": {
           "style": "light"
          },
          "paper_bgcolor": "white",
          "plot_bgcolor": "#E5ECF6",
          "polar": {
           "angularaxis": {
            "gridcolor": "white",
            "linecolor": "white",
            "ticks": ""
           },
           "bgcolor": "#E5ECF6",
           "radialaxis": {
            "gridcolor": "white",
            "linecolor": "white",
            "ticks": ""
           }
          },
          "scene": {
           "xaxis": {
            "backgroundcolor": "#E5ECF6",
            "gridcolor": "white",
            "gridwidth": 2,
            "linecolor": "white",
            "showbackground": true,
            "ticks": "",
            "zerolinecolor": "white"
           },
           "yaxis": {
            "backgroundcolor": "#E5ECF6",
            "gridcolor": "white",
            "gridwidth": 2,
            "linecolor": "white",
            "showbackground": true,
            "ticks": "",
            "zerolinecolor": "white"
           },
           "zaxis": {
            "backgroundcolor": "#E5ECF6",
            "gridcolor": "white",
            "gridwidth": 2,
            "linecolor": "white",
            "showbackground": true,
            "ticks": "",
            "zerolinecolor": "white"
           }
          },
          "shapedefaults": {
           "line": {
            "color": "#2a3f5f"
           }
          },
          "ternary": {
           "aaxis": {
            "gridcolor": "white",
            "linecolor": "white",
            "ticks": ""
           },
           "baxis": {
            "gridcolor": "white",
            "linecolor": "white",
            "ticks": ""
           },
           "bgcolor": "#E5ECF6",
           "caxis": {
            "gridcolor": "white",
            "linecolor": "white",
            "ticks": ""
           }
          },
          "title": {
           "x": 0.05
          },
          "xaxis": {
           "automargin": true,
           "gridcolor": "white",
           "linecolor": "white",
           "ticks": "",
           "title": {
            "standoff": 15
           },
           "zerolinecolor": "white",
           "zerolinewidth": 2
          },
          "yaxis": {
           "automargin": true,
           "gridcolor": "white",
           "linecolor": "white",
           "ticks": "",
           "title": {
            "standoff": 15
           },
           "zerolinecolor": "white",
           "zerolinewidth": 2
          }
         }
        },
        "title": {
         "text": "Scatter Plot of Family Size vs Charges by BMI Category"
        },
        "xaxis": {
         "anchor": "y",
         "domain": [
          0,
          1
         ],
         "title": {
          "text": "Children"
         }
        },
        "yaxis": {
         "anchor": "x",
         "domain": [
          0,
          1
         ],
         "title": {
          "text": "Charges"
         }
        }
       }
      }
     },
     "metadata": {},
     "output_type": "display_data"
    }
   ],
   "source": [
    "fig = px.scatter(df, x='children', y='charges', color='charges_bmi_ratio',\n",
    "                title='Scatter Plot of Family Size vs Charges by BMI Category',\n",
    "                labels={'children': 'Children', 'charges': 'Charges', 'bmi_category': 'charges_bmi_ratio'},)\n",
    "fig.show()"
   ]
  },
  {
   "cell_type": "markdown",
   "id": "fb93ace6",
   "metadata": {},
   "source": [
    "This scatter plot indicates that the more children you have doesn't heavily impact the charges incurred. This is displayed, as individuals with 1-3 children are paying significantly more in medicals fees, as opposed to individuals with 4-5 children."
   ]
  },
  {
   "cell_type": "markdown",
   "id": "a1b803b5",
   "metadata": {},
   "source": [
    "## Conclusion"
   ]
  },
  {
   "cell_type": "markdown",
   "id": "42fef6cc",
   "metadata": {},
   "source": [
    "The goal was to identify which factors influence insurance costs the most. Through the analysis of healthcare insurance charges, it was found that BMI and age play a significant role in cost variations. Additionaly, there was a stronger distribution of charges on the lower scale (below 20k), which indicates that higher insurance charges are impacting a smaller amount of people. This study also sought to investigate whether more children would result in higher medical charges, however the analysis suggest thsi doesn't play a huge role. The findings confirm that an indivuals who are older in age or have a higher BMI are more likely to incur higher insurance charges. \n",
    "\n",
    "Given the trends identified, insurers could look into implementing flexible payment plans or reduced pricing for those who fall within those categories. Further exploration into the age of an individuals child, could give us greater insight on whether that has a greater impact on charges."
   ]
  }
 ],
 "metadata": {
  "kernelspec": {
   "display_name": ".venv",
   "language": "python",
   "name": "python3"
  },
  "language_info": {
   "codemirror_mode": {
    "name": "ipython",
    "version": 3
   },
   "file_extension": ".py",
   "mimetype": "text/x-python",
   "name": "python",
   "nbconvert_exporter": "python",
   "pygments_lexer": "ipython3",
   "version": "3.12.8"
  }
 },
 "nbformat": 4,
 "nbformat_minor": 5
}
